{
 "metadata": {
  "name": ""
 },
 "nbformat": 3,
 "nbformat_minor": 0,
 "worksheets": [
  {
   "cells": [
    {
     "cell_type": "code",
     "collapsed": false,
     "input": [
      "%pylab inline\n",
      "import os.path"
     ],
     "language": "python",
     "metadata": {},
     "outputs": [
      {
       "output_type": "stream",
       "stream": "stdout",
       "text": [
        "Populating the interactive namespace from numpy and matplotlib\n"
       ]
      }
     ],
     "prompt_number": 2
    },
    {
     "cell_type": "heading",
     "level": 1,
     "metadata": {},
     "source": [
      "Punto 1"
     ]
    },
    {
     "cell_type": "heading",
     "level": 2,
     "metadata": {},
     "source": [
      "Funciones"
     ]
    },
    {
     "cell_type": "code",
     "collapsed": false,
     "input": [
      "def unirMatrices(matrizA, matrizB):\n",
      "    mA=matrizA.shape[1]\n",
      "    n=matrizA.shape[0]\n",
      "    \n",
      "    if len(matrizB.shape)==1: \n",
      "        resultado=zeros([n,mA+1])\n",
      "        for i in range(n):\n",
      "            for j in range(mA):\n",
      "                resultado[i,j]=matrizA[i,j]\n",
      "            resultado[i,mA]=matrizB[i]\n",
      "    else: \n",
      "        mB=matrizB.shape[1]\n",
      "        resultado=zeros([n,mA+mB])\n",
      "        for i in range(n):\n",
      "            for j in range(mA+mB):\n",
      "                if i<n:\n",
      "                    resultado[i,j]=matrizA[i,j]\n",
      "                if i>=mA: \n",
      "                    resultado[i,j-mA]=matrizA[i,j]\n",
      "    return resultado\n",
      "    "
     ],
     "language": "python",
     "metadata": {},
     "outputs": [],
     "prompt_number": 3
    },
    {
     "cell_type": "code",
     "collapsed": false,
     "input": [
      "def darMatrizCoeficientes(matrizIn):\n",
      "    n=len(matrizIn)\n",
      "    return matrizIn[:,3]"
     ],
     "language": "python",
     "metadata": {},
     "outputs": [],
     "prompt_number": 4
    },
    {
     "cell_type": "code",
     "collapsed": false,
     "input": [
      "def volverTriangularSuperior(matriz):\n",
      "    n=len(matriz)\n",
      "    for i in range(n-1):\n",
      "        for j in range(i+1,n):\n",
      "            matriz[j,:]= matriz[j,:]-(matriz[j,i]/matriz[i,i])*matriz[i,:]\n",
      "    return matriz"
     ],
     "language": "python",
     "metadata": {},
     "outputs": [],
     "prompt_number": 5
    },
    {
     "cell_type": "markdown",
     "metadata": {},
     "source": [
      "Esa funci\u00f3n usa el m\u00e9todo de Guass Jordan para reducir cualquier matriz, que entra por parametro, en conjunto a un vector de coeficientes, que tambien entra por parametro"
     ]
    },
    {
     "cell_type": "code",
     "collapsed": false,
     "input": [
      "def reducirMatriz(matrizIn, coeficientes): \n",
      "    matriz=unirMatrices(matrizIn, coeficientes)\n",
      "    matriz=volverTriangularSuperior(matriz)\n",
      "    n=len(matriz)\n",
      "    for i in range(n): \n",
      "        matriz[i,:]=(1/matriz[i,i])*matriz[i,:]\n",
      "    for i in range (n-1):\n",
      "        for j in range (i+1,n):\n",
      "            matriz[i,:]= matriz[i,:]-(matriz[i,j])*matriz[j,:]\n",
      "    return matriz"
     ],
     "language": "python",
     "metadata": {},
     "outputs": [],
     "prompt_number": 6
    },
    {
     "cell_type": "code",
     "collapsed": false,
     "input": [
      "def transponerMatriz(matrizIn): \n",
      "    cols=matrizIn.shape[1]\n",
      "    rows=matrizIn.shape[0]\n",
      "    matrizOut=zeros([cols,rows])\n",
      "    for i in range(rows):\n",
      "        for j in range(cols):\n",
      "            matrizOut[j,i]=matrizIn[i,j]\n",
      "    return matrizOut"
     ],
     "language": "python",
     "metadata": {},
     "outputs": [],
     "prompt_number": 7
    },
    {
     "cell_type": "code",
     "collapsed": false,
     "input": [
      "def invertirMatriz(matrizIn):\n",
      "    n=len(matrizIn)\n",
      "    matriz=reducirMatriz(matrizIn,identity(n))\n",
      "    return matriz"
     ],
     "language": "python",
     "metadata": {},
     "outputs": [],
     "prompt_number": 8
    },
    {
     "cell_type": "heading",
     "level": 2,
     "metadata": {},
     "source": [
      "Main"
     ]
    },
    {
     "cell_type": "markdown",
     "metadata": {},
     "source": [
      "Ac\u00e1 esta el programa principal. Este abre un archivo para guardar los datos. En un par de for's empieza a recorrer todos los pares de angulos $\\theta$ y $\\phi$ para recorrer todos los archivos. \n",
      "\n",
      "El primer if revisa si el archivo existe. \n",
      "Se carga el archivo\n",
      "Luego se crean vectores de tiempos y posiciones y con eso se crea la matriz $Matriz$ de variables $1$, $t$, $\\dfrac{t^2}{2}$.\n",
      "Una vez se crea esta matriz se usan las siguientes manipulaciones volver cuadradas lamtrices y poder reduci con Gauss Jordan\n",
      "\\begin{align*}\n",
      "(Matriz) \\vec{m}&=\\vec{y}\\\\\n",
      "(Matriz)^T(Matriz) \\vec{m}&=Matriz^T\\vec{y}\\\\\n",
      "A\\vec{m}&=B\n",
      "\\end{align*}"
     ]
    },
    {
     "cell_type": "code",
     "collapsed": false,
     "input": [
      "archivoOut=open(\"campoGravitacional.dat\",\"w\")\n",
      "archivoOut.write(\"\")\n",
      "for i in range(1800):\n",
      "    theta=i/10.0\n",
      "    for j in range(3600):\n",
      "        phi=j/10.0\n",
      "        nombre=\"experiment_theta_\"+str(theta)+\"_phi_\"+str(phi)+\".dat\"\n",
      "        if (os.path.exists(nombre)):\n",
      "            archivo =loadtxt(nombre)\n",
      "            t=archivo[:,0]\n",
      "            y=archivo[:,1]\n",
      "            n=len(t)\n",
      "            matriz=zeros([n,3])\n",
      "            for i in range(n):\n",
      "                matriz[i,0]=1\n",
      "                matriz[i,1]=t[i]\n",
      "                matriz[i,2]=0.5*(t[i])**2\n",
      "            A=zeros([3,3])\n",
      "            B=zeros(3)\n",
      "            for i in range(3):\n",
      "                B[i]=sum(y*matriz[:,i])\n",
      "                for j in range(3):\n",
      "                    A[i,j]=sum(matriz[:,i]*matriz[:,j])    \n",
      "            frase=str(theta)+ \" \"+str(phi)\n",
      "            vectorsito=darMatrizCoeficientes(reducirMatriz(A,B))\n",
      "            for i in range(len(vectorsito)): \n",
      "                frase=frase+\" \"+str(vectorsito[i])\n",
      "            frase=frase+'\\n'\n",
      "            archivoOut.write(frase)\n",
      "            #print transponerMatriz(darMatrizCoeficientes(reducirMatriz(A,B)))"
     ],
     "language": "python",
     "metadata": {},
     "outputs": [],
     "prompt_number": "*"
    },
    {
     "cell_type": "heading",
     "level": 1,
     "metadata": {},
     "source": [
      "Punto 2"
     ]
    },
    {
     "cell_type": "code",
     "collapsed": false,
     "input": [
      "archivoIn=loadtxt(\"campoGravitacional.dat\",\"r\")\n",
      "type( archivoIn)"
     ],
     "language": "python",
     "metadata": {},
     "outputs": [],
     "prompt_number": "*"
    },
    {
     "cell_type": "code",
     "collapsed": false,
     "input": [],
     "language": "python",
     "metadata": {},
     "outputs": []
    }
   ],
   "metadata": {}
  }
 ]
}