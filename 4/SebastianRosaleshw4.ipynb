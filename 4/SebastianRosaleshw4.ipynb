{
 "metadata": {
  "name": ""
 },
 "nbformat": 3,
 "nbformat_minor": 0,
 "worksheets": [
  {
   "cells": [
    {
     "cell_type": "code",
     "collapsed": false,
     "input": [
      "%pylab inline\n",
      "import os.path"
     ],
     "language": "python",
     "metadata": {},
     "outputs": [
      {
       "output_type": "stream",
       "stream": "stdout",
       "text": [
        "Populating the interactive namespace from numpy and matplotlib\n"
       ]
      }
     ],
     "prompt_number": 252
    },
    {
     "cell_type": "code",
     "collapsed": false,
     "input": [
      "def unirMatrices(matrizA, matrizB):\n",
      "    mA=matrizA.shape[1]\n",
      "    n=matrizA.shape[0]\n",
      "    \n",
      "    if len(matrizB.shape)==1: \n",
      "        resultado=zeros([n,mA+1])\n",
      "        for i in range(n):\n",
      "            for j in range(mA):\n",
      "                resultado[i,j]=matrizA[i,j]\n",
      "            resultado[i,mA]=matrizB[i]\n",
      "    else: \n",
      "        mB=matrizB.shape[1]\n",
      "        resultado=zeros([n,mA+mB])\n",
      "        for i in range(n):\n",
      "            for j in range(mA+mB):\n",
      "                if i<n:\n",
      "                    resultado[i,j]=matrizA[i,j]\n",
      "                if i>=mA: \n",
      "                    resultado[i,j-mA]=matrizA[i,j]\n",
      "    return resultado\n",
      "    "
     ],
     "language": "python",
     "metadata": {},
     "outputs": [],
     "prompt_number": 253
    },
    {
     "cell_type": "code",
     "collapsed": false,
     "input": [
      "def darMatrizCoeficientes(matrizIn):\n",
      "    n=len(matrizIn)\n",
      "    return matrizIn[:,3]"
     ],
     "language": "python",
     "metadata": {},
     "outputs": [],
     "prompt_number": 254
    },
    {
     "cell_type": "code",
     "collapsed": false,
     "input": [
      "def volverTriangularSuperior(matriz):\n",
      "    n=len(matriz)\n",
      "    for i in range(n-1):\n",
      "        for j in range(i+1,n):\n",
      "            matriz[j,:]= matriz[j,:]-(matriz[j,i]/matriz[i,i])*matriz[i,:]\n",
      "    return matriz"
     ],
     "language": "python",
     "metadata": {},
     "outputs": [],
     "prompt_number": 255
    },
    {
     "cell_type": "code",
     "collapsed": false,
     "input": [
      "def reducirMatriz(matrizIn, coeficientes): \n",
      "    matriz=unirMatrices(matrizIn, coeficientes)\n",
      "    matriz=volverTriangularSuperior(matriz)\n",
      "    n=len(matriz)\n",
      "    for i in range(n): \n",
      "        matriz[i,:]=(1/matriz[i,i])*matriz[i,:]\n",
      "    for i in range (n-1):\n",
      "        for j in range (i+1,n):\n",
      "            matriz[i,:]= matriz[i,:]-(matriz[i,j])*matriz[j,:]\n",
      "    return matriz"
     ],
     "language": "python",
     "metadata": {},
     "outputs": [],
     "prompt_number": 256
    },
    {
     "cell_type": "code",
     "collapsed": false,
     "input": [
      "def transponerMatriz(matrizIn): \n",
      "    cols=matrizIn.shape[1]\n",
      "    rows=matrizIn.shape[0]\n",
      "    matrizOut=zeros([cols,rows])\n",
      "    for i in range(rows):\n",
      "        for j in range(cols):\n",
      "            matrizOut[j,i]=matrizIn[i,j]\n",
      "    return matrizOut"
     ],
     "language": "python",
     "metadata": {},
     "outputs": [],
     "prompt_number": 257
    },
    {
     "cell_type": "code",
     "collapsed": false,
     "input": [
      "def invertirMatriz(matrizIn):\n",
      "    n=len(matrizIn)\n",
      "    matriz=reducirMatriz(matrizIn,identity(n))\n",
      "    return matriz"
     ],
     "language": "python",
     "metadata": {},
     "outputs": [],
     "prompt_number": 258
    },
    {
     "cell_type": "code",
     "collapsed": false,
     "input": [
      "archivoOut=open(\"campoGravitacional.dat\",\"w\")\n",
      "archivoOut.write(\"\")\n",
      "for i in range(1800):\n",
      "    theta=i/10.0\n",
      "    for j in range(3600):\n",
      "        phi=j/10.0\n",
      "        nombre=\"experiment_theta_\"+str(theta)+\"_phi_\"+str(phi)+\".dat\"\n",
      "        if (os.path.exists(nombre)):\n",
      "            print \"-------- Estoy en el archivo: \"+str(nombre)+\"---------\"\n",
      "            archivo =loadtxt(nombre)\n",
      "            t=archivo[:,0]\n",
      "            y=archivo[:,1]\n",
      "            n=len(t)\n",
      "            matriz=zeros([n,3])\n",
      "            for i in range(n):\n",
      "                matriz[i,0]=1\n",
      "                matriz[i,1]=t[i]\n",
      "                matriz[i,2]=0.5*(t[i])**2\n",
      "            A=zeros([3,3])\n",
      "            B=zeros(3)\n",
      "            for i in range(3):\n",
      "                B[i]=sum(y*matriz[:,i])\n",
      "                for j in range(3):\n",
      "                    A[i,j]=sum(matriz[:,i]*matriz[:,j])    \n",
      "            frase=str(theta)+ \" \"+str(phi)\n",
      "            vectorsito=darMatrizCoeficientes(reducirMatriz(A,B))\n",
      "            for i in range(len(vectorsito)): \n",
      "                frase=frase+\" \"+str(vectorsito[i])\n",
      "            frase=frase+'\\n'\n",
      "            archivoOut.write(frase)\n",
      "            #print transponerMatriz(darMatrizCoeficientes(reducirMatriz(A,B)))"
     ],
     "language": "python",
     "metadata": {},
     "outputs": [
      {
       "output_type": "stream",
       "stream": "stdout",
       "text": [
        "-------- Estoy en el archivo: experiment_theta_5.8_phi_179.3.dat---------\n",
        "-------- Estoy en el archivo: experiment_theta_5.8_phi_347.8.dat---------"
       ]
      },
      {
       "output_type": "stream",
       "stream": "stdout",
       "text": [
        "\n",
        "-------- Estoy en el archivo: experiment_theta_6.1_phi_42.4.dat---------"
       ]
      },
      {
       "output_type": "stream",
       "stream": "stdout",
       "text": [
        "\n",
        "-------- Estoy en el archivo: experiment_theta_6.4_phi_174.4.dat---------"
       ]
      },
      {
       "output_type": "stream",
       "stream": "stdout",
       "text": [
        "\n",
        "-------- Estoy en el archivo: experiment_theta_7.2_phi_115.8.dat---------"
       ]
      },
      {
       "output_type": "stream",
       "stream": "stdout",
       "text": [
        "\n",
        "-------- Estoy en el archivo: experiment_theta_7.8_phi_339.7.dat---------"
       ]
      },
      {
       "output_type": "stream",
       "stream": "stdout",
       "text": [
        "\n",
        "-------- Estoy en el archivo: experiment_theta_8.1_phi_78.8.dat---------"
       ]
      },
      {
       "output_type": "stream",
       "stream": "stdout",
       "text": [
        "\n",
        "-------- Estoy en el archivo: experiment_theta_10.4_phi_192.6.dat---------"
       ]
      },
      {
       "output_type": "stream",
       "stream": "stdout",
       "text": [
        "\n",
        "-------- Estoy en el archivo: experiment_theta_11.1_phi_239.6.dat---------"
       ]
      },
      {
       "output_type": "stream",
       "stream": "stdout",
       "text": [
        "\n",
        "-------- Estoy en el archivo: experiment_theta_11.3_phi_43.8.dat---------"
       ]
      },
      {
       "output_type": "stream",
       "stream": "stdout",
       "text": [
        "\n",
        "-------- Estoy en el archivo: experiment_theta_11.5_phi_108.1.dat---------"
       ]
      },
      {
       "output_type": "stream",
       "stream": "stdout",
       "text": [
        "\n",
        "-------- Estoy en el archivo: experiment_theta_11.6_phi_273.6.dat---------"
       ]
      },
      {
       "output_type": "stream",
       "stream": "stdout",
       "text": [
        "\n",
        "-------- Estoy en el archivo: experiment_theta_11.9_phi_303.0.dat---------"
       ]
      },
      {
       "output_type": "stream",
       "stream": "stdout",
       "text": [
        "\n",
        "-------- Estoy en el archivo: experiment_theta_12.2_phi_145.5.dat---------"
       ]
      },
      {
       "output_type": "stream",
       "stream": "stdout",
       "text": [
        "\n",
        "-------- Estoy en el archivo: experiment_theta_12.3_phi_117.1.dat---------"
       ]
      },
      {
       "output_type": "stream",
       "stream": "stdout",
       "text": [
        "\n",
        "-------- Estoy en el archivo: experiment_theta_12.3_phi_184.1.dat---------\n",
        "-------- Estoy en el archivo: experiment_theta_12.3_phi_287.0.dat---------\n",
        "-------- Estoy en el archivo: experiment_theta_12.7_phi_51.2.dat---------"
       ]
      },
      {
       "output_type": "stream",
       "stream": "stdout",
       "text": [
        "\n",
        "-------- Estoy en el archivo: experiment_theta_13.3_phi_158.9.dat---------"
       ]
      },
      {
       "output_type": "stream",
       "stream": "stdout",
       "text": [
        "\n",
        "-------- Estoy en el archivo: experiment_theta_13.4_phi_312.8.dat---------"
       ]
      },
      {
       "output_type": "stream",
       "stream": "stdout",
       "text": [
        "\n",
        "-------- Estoy en el archivo: experiment_theta_13.5_phi_22.9.dat---------"
       ]
      },
      {
       "output_type": "stream",
       "stream": "stdout",
       "text": [
        "\n",
        "-------- Estoy en el archivo: experiment_theta_13.6_phi_300.7.dat---------"
       ]
      },
      {
       "output_type": "stream",
       "stream": "stdout",
       "text": [
        "\n",
        "-------- Estoy en el archivo: experiment_theta_13.7_phi_216.4.dat---------\n",
        "-------- Estoy en el archivo: experiment_theta_13.9_phi_342.7.dat---------"
       ]
      },
      {
       "output_type": "stream",
       "stream": "stdout",
       "text": [
        "\n",
        "-------- Estoy en el archivo: experiment_theta_14.0_phi_253.5.dat---------"
       ]
      },
      {
       "output_type": "stream",
       "stream": "stdout",
       "text": [
        "\n",
        "-------- Estoy en el archivo: experiment_theta_14.2_phi_350.0.dat---------"
       ]
      },
      {
       "output_type": "stream",
       "stream": "stdout",
       "text": [
        "\n",
        "-------- Estoy en el archivo: experiment_theta_14.3_phi_209.4.dat---------\n",
        "-------- Estoy en el archivo: experiment_theta_14.3_phi_347.8.dat---------"
       ]
      },
      {
       "output_type": "stream",
       "stream": "stdout",
       "text": [
        "\n",
        "-------- Estoy en el archivo: experiment_theta_14.5_phi_311.0.dat---------"
       ]
      },
      {
       "output_type": "stream",
       "stream": "stdout",
       "text": [
        "\n",
        "-------- Estoy en el archivo: experiment_theta_15.0_phi_62.4.dat---------"
       ]
      },
      {
       "output_type": "stream",
       "stream": "stdout",
       "text": [
        "\n",
        "-------- Estoy en el archivo: experiment_theta_15.0_phi_353.5.dat---------"
       ]
      },
      {
       "output_type": "stream",
       "stream": "stdout",
       "text": [
        "\n",
        "-------- Estoy en el archivo: experiment_theta_15.1_phi_64.2.dat---------\n",
        "-------- Estoy en el archivo: experiment_theta_15.2_phi_286.1.dat---------"
       ]
      },
      {
       "output_type": "stream",
       "stream": "stdout",
       "text": [
        "\n",
        "-------- Estoy en el archivo: experiment_theta_15.2_phi_313.0.dat---------\n",
        "-------- Estoy en el archivo: experiment_theta_15.4_phi_322.1.dat---------"
       ]
      },
      {
       "output_type": "stream",
       "stream": "stdout",
       "text": [
        "\n",
        "-------- Estoy en el archivo: experiment_theta_15.9_phi_208.0.dat---------"
       ]
      },
      {
       "output_type": "stream",
       "stream": "stdout",
       "text": [
        "\n",
        "-------- Estoy en el archivo: experiment_theta_16.4_phi_193.2.dat---------"
       ]
      },
      {
       "output_type": "stream",
       "stream": "stdout",
       "text": [
        "\n",
        "-------- Estoy en el archivo: experiment_theta_16.5_phi_240.4.dat---------"
       ]
      },
      {
       "output_type": "stream",
       "stream": "stdout",
       "text": [
        "\n",
        "-------- Estoy en el archivo: experiment_theta_17.1_phi_243.3.dat---------"
       ]
      },
      {
       "output_type": "stream",
       "stream": "stdout",
       "text": [
        "\n",
        "-------- Estoy en el archivo: experiment_theta_17.3_phi_169.5.dat---------"
       ]
      },
      {
       "output_type": "stream",
       "stream": "stdout",
       "text": [
        "\n",
        "-------- Estoy en el archivo: experiment_theta_17.9_phi_2.7.dat---------"
       ]
      },
      {
       "output_type": "stream",
       "stream": "stdout",
       "text": [
        "\n",
        "-------- Estoy en el archivo: experiment_theta_18.0_phi_185.3.dat---------"
       ]
      },
      {
       "output_type": "stream",
       "stream": "stdout",
       "text": [
        "\n",
        "-------- Estoy en el archivo: experiment_theta_18.1_phi_145.3.dat---------"
       ]
      },
      {
       "output_type": "stream",
       "stream": "stdout",
       "text": [
        "\n",
        "-------- Estoy en el archivo: experiment_theta_18.2_phi_359.2.dat---------"
       ]
      },
      {
       "output_type": "stream",
       "stream": "stdout",
       "text": [
        "\n",
        "-------- Estoy en el archivo: experiment_theta_18.3_phi_37.6.dat---------\n",
        "-------- Estoy en el archivo: experiment_theta_18.7_phi_58.2.dat---------"
       ]
      },
      {
       "output_type": "stream",
       "stream": "stdout",
       "text": [
        "\n",
        "-------- Estoy en el archivo: experiment_theta_18.7_phi_101.4.dat---------\n",
        "-------- Estoy en el archivo: experiment_theta_18.7_phi_152.5.dat---------\n",
        "-------- Estoy en el archivo: experiment_theta_18.7_phi_210.9.dat---------\n",
        "-------- Estoy en el archivo: experiment_theta_19.6_phi_322.1.dat---------"
       ]
      },
      {
       "output_type": "stream",
       "stream": "stdout",
       "text": [
        "\n",
        "-------- Estoy en el archivo: experiment_theta_19.8_phi_102.0.dat---------"
       ]
      },
      {
       "output_type": "stream",
       "stream": "stdout",
       "text": [
        "\n",
        "-------- Estoy en el archivo: experiment_theta_20.1_phi_93.4.dat---------"
       ]
      },
      {
       "output_type": "stream",
       "stream": "stdout",
       "text": [
        "\n",
        "-------- Estoy en el archivo: experiment_theta_20.6_phi_311.4.dat---------"
       ]
      },
      {
       "output_type": "stream",
       "stream": "stdout",
       "text": [
        "\n",
        "-------- Estoy en el archivo: experiment_theta_20.8_phi_23.6.dat---------"
       ]
      },
      {
       "output_type": "stream",
       "stream": "stdout",
       "text": [
        "\n",
        "-------- Estoy en el archivo: experiment_theta_20.9_phi_219.3.dat---------"
       ]
      },
      {
       "output_type": "stream",
       "stream": "stdout",
       "text": [
        "\n",
        "-------- Estoy en el archivo: experiment_theta_21.0_phi_257.2.dat---------"
       ]
      },
      {
       "output_type": "stream",
       "stream": "stdout",
       "text": [
        "\n",
        "-------- Estoy en el archivo: experiment_theta_21.1_phi_54.8.dat---------"
       ]
      },
      {
       "output_type": "stream",
       "stream": "stdout",
       "text": [
        "\n",
        "-------- Estoy en el archivo: experiment_theta_21.2_phi_316.6.dat---------"
       ]
      },
      {
       "output_type": "stream",
       "stream": "stdout",
       "text": [
        "\n",
        "-------- Estoy en el archivo: experiment_theta_21.6_phi_298.3.dat---------"
       ]
      },
      {
       "output_type": "stream",
       "stream": "stdout",
       "text": [
        "\n",
        "-------- Estoy en el archivo: experiment_theta_21.7_phi_358.9.dat---------"
       ]
      },
      {
       "output_type": "stream",
       "stream": "stdout",
       "text": [
        "\n",
        "-------- Estoy en el archivo: experiment_theta_21.9_phi_354.9.dat---------"
       ]
      },
      {
       "output_type": "stream",
       "stream": "stdout",
       "text": [
        "\n",
        "-------- Estoy en el archivo: experiment_theta_22.4_phi_68.1.dat---------"
       ]
      },
      {
       "output_type": "stream",
       "stream": "stdout",
       "text": [
        "\n",
        "-------- Estoy en el archivo: experiment_theta_22.7_phi_269.7.dat---------"
       ]
      },
      {
       "output_type": "stream",
       "stream": "stdout",
       "text": [
        "\n",
        "-------- Estoy en el archivo: experiment_theta_22.8_phi_302.3.dat---------"
       ]
      },
      {
       "output_type": "stream",
       "stream": "stdout",
       "text": [
        "\n",
        "-------- Estoy en el archivo: experiment_theta_23.2_phi_81.2.dat---------"
       ]
      },
      {
       "output_type": "stream",
       "stream": "stdout",
       "text": [
        "\n",
        "-------- Estoy en el archivo: experiment_theta_23.9_phi_41.1.dat---------"
       ]
      },
      {
       "output_type": "stream",
       "stream": "stdout",
       "text": [
        "\n",
        "-------- Estoy en el archivo: experiment_theta_24.1_phi_27.7.dat---------"
       ]
      },
      {
       "output_type": "stream",
       "stream": "stdout",
       "text": [
        "\n",
        "-------- Estoy en el archivo: experiment_theta_25.0_phi_217.8.dat---------"
       ]
      },
      {
       "output_type": "stream",
       "stream": "stdout",
       "text": [
        "\n",
        "-------- Estoy en el archivo: experiment_theta_25.1_phi_252.2.dat---------"
       ]
      },
      {
       "output_type": "stream",
       "stream": "stdout",
       "text": [
        "\n",
        "-------- Estoy en el archivo: experiment_theta_25.3_phi_76.4.dat---------"
       ]
      },
      {
       "output_type": "stream",
       "stream": "stdout",
       "text": [
        "\n",
        "-------- Estoy en el archivo: experiment_theta_25.3_phi_207.7.dat---------"
       ]
      },
      {
       "output_type": "stream",
       "stream": "stdout",
       "text": [
        "\n",
        "-------- Estoy en el archivo: experiment_theta_25.4_phi_147.4.dat---------"
       ]
      },
      {
       "output_type": "stream",
       "stream": "stdout",
       "text": [
        "\n",
        "-------- Estoy en el archivo: experiment_theta_25.5_phi_23.5.dat---------"
       ]
      },
      {
       "output_type": "stream",
       "stream": "stdout",
       "text": [
        "\n",
        "-------- Estoy en el archivo: experiment_theta_25.6_phi_300.9.dat---------"
       ]
      },
      {
       "output_type": "stream",
       "stream": "stdout",
       "text": [
        "\n",
        "-------- Estoy en el archivo: experiment_theta_25.7_phi_284.4.dat---------"
       ]
      },
      {
       "output_type": "stream",
       "stream": "stdout",
       "text": [
        "\n",
        "-------- Estoy en el archivo: experiment_theta_25.7_phi_310.7.dat---------\n",
        "-------- Estoy en el archivo: experiment_theta_25.9_phi_261.5.dat---------"
       ]
      },
      {
       "output_type": "stream",
       "stream": "stdout",
       "text": [
        "\n",
        "-------- Estoy en el archivo: experiment_theta_26.3_phi_185.0.dat---------"
       ]
      },
      {
       "output_type": "stream",
       "stream": "stdout",
       "text": [
        "\n",
        "-------- Estoy en el archivo: experiment_theta_26.3_phi_198.4.dat---------\n",
        "-------- Estoy en el archivo: experiment_theta_26.4_phi_226.6.dat---------"
       ]
      },
      {
       "output_type": "stream",
       "stream": "stdout",
       "text": [
        "\n",
        "-------- Estoy en el archivo: experiment_theta_26.7_phi_42.4.dat---------"
       ]
      },
      {
       "output_type": "stream",
       "stream": "stdout",
       "text": [
        "\n",
        "-------- Estoy en el archivo: experiment_theta_26.7_phi_289.7.dat---------"
       ]
      },
      {
       "output_type": "stream",
       "stream": "stdout",
       "text": [
        "\n",
        "-------- Estoy en el archivo: experiment_theta_26.9_phi_123.6.dat---------"
       ]
      },
      {
       "output_type": "stream",
       "stream": "stdout",
       "text": [
        "\n",
        "-------- Estoy en el archivo: experiment_theta_27.5_phi_91.8.dat---------"
       ]
      },
      {
       "output_type": "stream",
       "stream": "stdout",
       "text": [
        "\n",
        "-------- Estoy en el archivo: experiment_theta_27.7_phi_187.7.dat---------"
       ]
      },
      {
       "output_type": "stream",
       "stream": "stdout",
       "text": [
        "\n",
        "-------- Estoy en el archivo: experiment_theta_27.8_phi_139.5.dat---------"
       ]
      },
      {
       "output_type": "stream",
       "stream": "stdout",
       "text": [
        "\n",
        "-------- Estoy en el archivo: experiment_theta_27.9_phi_269.1.dat---------"
       ]
      },
      {
       "output_type": "stream",
       "stream": "stdout",
       "text": [
        "\n",
        "-------- Estoy en el archivo: experiment_theta_27.9_phi_325.0.dat---------\n",
        "-------- Estoy en el archivo: experiment_theta_28.4_phi_195.4.dat---------"
       ]
      },
      {
       "output_type": "stream",
       "stream": "stdout",
       "text": [
        "\n",
        "-------- Estoy en el archivo: experiment_theta_28.4_phi_255.8.dat---------\n",
        "-------- Estoy en el archivo: experiment_theta_28.5_phi_19.4.dat---------"
       ]
      },
      {
       "output_type": "stream",
       "stream": "stdout",
       "text": [
        "\n",
        "-------- Estoy en el archivo: experiment_theta_29.0_phi_70.2.dat---------"
       ]
      },
      {
       "output_type": "stream",
       "stream": "stdout",
       "text": [
        "\n",
        "-------- Estoy en el archivo: experiment_theta_29.1_phi_259.6.dat---------"
       ]
      },
      {
       "output_type": "stream",
       "stream": "stdout",
       "text": [
        "\n",
        "-------- Estoy en el archivo: experiment_theta_29.2_phi_283.4.dat---------"
       ]
      },
      {
       "output_type": "stream",
       "stream": "stdout",
       "text": [
        "\n",
        "-------- Estoy en el archivo: experiment_theta_29.2_phi_331.9.dat---------\n",
        "-------- Estoy en el archivo: experiment_theta_29.5_phi_180.7.dat---------"
       ]
      },
      {
       "output_type": "stream",
       "stream": "stdout",
       "text": [
        "\n",
        "-------- Estoy en el archivo: experiment_theta_29.5_phi_281.3.dat---------"
       ]
      },
      {
       "output_type": "stream",
       "stream": "stdout",
       "text": [
        "\n",
        "-------- Estoy en el archivo: experiment_theta_30.1_phi_193.2.dat---------"
       ]
      },
      {
       "output_type": "stream",
       "stream": "stdout",
       "text": [
        "\n",
        "-------- Estoy en el archivo: experiment_theta_30.5_phi_185.8.dat---------"
       ]
      },
      {
       "output_type": "stream",
       "stream": "stdout",
       "text": [
        "\n",
        "-------- Estoy en el archivo: experiment_theta_30.5_phi_222.1.dat---------\n",
        "-------- Estoy en el archivo: experiment_theta_30.5_phi_224.9.dat---------\n",
        "-------- Estoy en el archivo: experiment_theta_30.7_phi_74.1.dat---------"
       ]
      },
      {
       "output_type": "stream",
       "stream": "stdout",
       "text": [
        "\n",
        "-------- Estoy en el archivo: experiment_theta_30.7_phi_288.4.dat---------"
       ]
      },
      {
       "output_type": "stream",
       "stream": "stdout",
       "text": [
        "\n",
        "-------- Estoy en el archivo: experiment_theta_30.9_phi_258.8.dat---------"
       ]
      },
      {
       "output_type": "stream",
       "stream": "stdout",
       "text": [
        "\n",
        "-------- Estoy en el archivo: experiment_theta_30.9_phi_310.1.dat---------\n",
        "-------- Estoy en el archivo: experiment_theta_31.1_phi_321.0.dat---------"
       ]
      },
      {
       "output_type": "stream",
       "stream": "stdout",
       "text": [
        "\n",
        "-------- Estoy en el archivo: experiment_theta_31.5_phi_202.1.dat---------"
       ]
      },
      {
       "output_type": "stream",
       "stream": "stdout",
       "text": [
        "\n",
        "-------- Estoy en el archivo: experiment_theta_31.5_phi_270.3.dat---------\n",
        "-------- Estoy en el archivo: experiment_theta_32.0_phi_175.8.dat---------"
       ]
      },
      {
       "output_type": "stream",
       "stream": "stdout",
       "text": [
        "\n",
        "-------- Estoy en el archivo: experiment_theta_32.1_phi_46.5.dat---------"
       ]
      },
      {
       "output_type": "stream",
       "stream": "stdout",
       "text": [
        "\n",
        "-------- Estoy en el archivo: experiment_theta_32.5_phi_233.9.dat---------"
       ]
      },
      {
       "output_type": "stream",
       "stream": "stdout",
       "text": [
        "\n",
        "-------- Estoy en el archivo: experiment_theta_33.7_phi_88.4.dat---------"
       ]
      },
      {
       "output_type": "stream",
       "stream": "stdout",
       "text": [
        "\n",
        "-------- Estoy en el archivo: experiment_theta_33.8_phi_277.0.dat---------"
       ]
      },
      {
       "output_type": "stream",
       "stream": "stdout",
       "text": [
        "\n",
        "-------- Estoy en el archivo: experiment_theta_33.9_phi_35.7.dat---------"
       ]
      },
      {
       "output_type": "stream",
       "stream": "stdout",
       "text": [
        "\n",
        "-------- Estoy en el archivo: experiment_theta_34.0_phi_84.2.dat---------"
       ]
      },
      {
       "output_type": "stream",
       "stream": "stdout",
       "text": [
        "\n",
        "-------- Estoy en el archivo: experiment_theta_34.1_phi_263.7.dat---------"
       ]
      },
      {
       "output_type": "stream",
       "stream": "stdout",
       "text": [
        "\n",
        "-------- Estoy en el archivo: experiment_theta_34.2_phi_246.3.dat---------"
       ]
      },
      {
       "output_type": "stream",
       "stream": "stdout",
       "text": [
        "\n",
        "-------- Estoy en el archivo: experiment_theta_34.3_phi_110.9.dat---------"
       ]
      },
      {
       "output_type": "stream",
       "stream": "stdout",
       "text": [
        "\n",
        "-------- Estoy en el archivo: experiment_theta_34.3_phi_320.1.dat---------"
       ]
      },
      {
       "output_type": "stream",
       "stream": "stdout",
       "text": [
        "\n",
        "-------- Estoy en el archivo: experiment_theta_34.4_phi_170.2.dat---------"
       ]
      },
      {
       "output_type": "stream",
       "stream": "stdout",
       "text": [
        "\n",
        "-------- Estoy en el archivo: experiment_theta_34.6_phi_46.2.dat---------"
       ]
      },
      {
       "output_type": "stream",
       "stream": "stdout",
       "text": [
        "\n",
        "-------- Estoy en el archivo: experiment_theta_34.8_phi_261.9.dat---------"
       ]
      },
      {
       "output_type": "stream",
       "stream": "stdout",
       "text": [
        "\n",
        "-------- Estoy en el archivo: experiment_theta_35.1_phi_59.0.dat---------"
       ]
      },
      {
       "output_type": "stream",
       "stream": "stdout",
       "text": [
        "\n",
        "-------- Estoy en el archivo: experiment_theta_36.2_phi_336.2.dat---------"
       ]
      },
      {
       "output_type": "stream",
       "stream": "stdout",
       "text": [
        "\n",
        "-------- Estoy en el archivo: experiment_theta_37.1_phi_80.0.dat---------"
       ]
      },
      {
       "output_type": "stream",
       "stream": "stdout",
       "text": [
        "\n",
        "-------- Estoy en el archivo: experiment_theta_37.1_phi_105.0.dat---------\n",
        "-------- Estoy en el archivo: experiment_theta_37.7_phi_306.6.dat---------"
       ]
      },
      {
       "output_type": "stream",
       "stream": "stdout",
       "text": [
        "\n",
        "-------- Estoy en el archivo: experiment_theta_38.0_phi_167.4.dat---------"
       ]
      },
      {
       "output_type": "stream",
       "stream": "stdout",
       "text": [
        "\n",
        "-------- Estoy en el archivo: experiment_theta_38.5_phi_188.0.dat---------"
       ]
      },
      {
       "output_type": "stream",
       "stream": "stdout",
       "text": [
        "\n",
        "-------- Estoy en el archivo: experiment_theta_38.9_phi_302.7.dat---------"
       ]
      },
      {
       "output_type": "stream",
       "stream": "stdout",
       "text": [
        "\n",
        "-------- Estoy en el archivo: experiment_theta_39.5_phi_157.0.dat---------"
       ]
      },
      {
       "output_type": "stream",
       "stream": "stdout",
       "text": [
        "\n",
        "-------- Estoy en el archivo: experiment_theta_39.6_phi_285.4.dat---------"
       ]
      },
      {
       "output_type": "stream",
       "stream": "stdout",
       "text": [
        "\n",
        "-------- Estoy en el archivo: experiment_theta_40.0_phi_23.4.dat---------"
       ]
      },
      {
       "output_type": "stream",
       "stream": "stdout",
       "text": [
        "\n",
        "-------- Estoy en el archivo: experiment_theta_40.2_phi_168.8.dat---------"
       ]
      },
      {
       "output_type": "stream",
       "stream": "stdout",
       "text": [
        "\n",
        "-------- Estoy en el archivo: experiment_theta_40.4_phi_34.6.dat---------"
       ]
      },
      {
       "output_type": "stream",
       "stream": "stdout",
       "text": [
        "\n",
        "-------- Estoy en el archivo: experiment_theta_40.4_phi_133.6.dat---------\n",
        "-------- Estoy en el archivo: experiment_theta_40.4_phi_340.9.dat---------"
       ]
      },
      {
       "output_type": "stream",
       "stream": "stdout",
       "text": [
        "\n",
        "-------- Estoy en el archivo: experiment_theta_40.6_phi_225.2.dat---------"
       ]
      },
      {
       "output_type": "stream",
       "stream": "stdout",
       "text": [
        "\n",
        "-------- Estoy en el archivo: experiment_theta_40.7_phi_110.2.dat---------"
       ]
      },
      {
       "output_type": "stream",
       "stream": "stdout",
       "text": [
        "\n",
        "-------- Estoy en el archivo: experiment_theta_40.9_phi_285.3.dat---------"
       ]
      },
      {
       "output_type": "stream",
       "stream": "stdout",
       "text": [
        "\n",
        "-------- Estoy en el archivo: experiment_theta_41.0_phi_48.3.dat---------"
       ]
      },
      {
       "output_type": "stream",
       "stream": "stdout",
       "text": [
        "\n",
        "-------- Estoy en el archivo: experiment_theta_41.0_phi_66.9.dat---------\n",
        "-------- Estoy en el archivo: experiment_theta_41.0_phi_85.5.dat---------\n",
        "-------- Estoy en el archivo: experiment_theta_41.4_phi_93.0.dat---------"
       ]
      },
      {
       "output_type": "stream",
       "stream": "stdout",
       "text": [
        "\n",
        "-------- Estoy en el archivo: experiment_theta_41.5_phi_150.0.dat---------"
       ]
      },
      {
       "output_type": "stream",
       "stream": "stdout",
       "text": [
        "\n",
        "-------- Estoy en el archivo: experiment_theta_41.6_phi_196.2.dat---------"
       ]
      },
      {
       "output_type": "stream",
       "stream": "stdout",
       "text": [
        "\n",
        "-------- Estoy en el archivo: experiment_theta_41.6_phi_282.0.dat---------\n",
        "-------- Estoy en el archivo: experiment_theta_41.8_phi_333.4.dat---------"
       ]
      },
      {
       "output_type": "stream",
       "stream": "stdout",
       "text": [
        "\n",
        "-------- Estoy en el archivo: experiment_theta_42.0_phi_182.4.dat---------"
       ]
      },
      {
       "output_type": "stream",
       "stream": "stdout",
       "text": [
        "\n",
        "-------- Estoy en el archivo: experiment_theta_42.1_phi_26.3.dat---------"
       ]
      },
      {
       "output_type": "stream",
       "stream": "stdout",
       "text": [
        "\n",
        "-------- Estoy en el archivo: experiment_theta_42.5_phi_344.0.dat---------"
       ]
      },
      {
       "output_type": "stream",
       "stream": "stdout",
       "text": [
        "\n",
        "-------- Estoy en el archivo: experiment_theta_42.7_phi_243.7.dat---------"
       ]
      },
      {
       "output_type": "stream",
       "stream": "stdout",
       "text": [
        "\n",
        "-------- Estoy en el archivo: experiment_theta_42.8_phi_176.7.dat---------"
       ]
      },
      {
       "output_type": "stream",
       "stream": "stdout",
       "text": [
        "\n",
        "-------- Estoy en el archivo: experiment_theta_43.0_phi_211.0.dat---------"
       ]
      },
      {
       "output_type": "stream",
       "stream": "stdout",
       "text": [
        "\n",
        "-------- Estoy en el archivo: experiment_theta_43.4_phi_127.2.dat---------"
       ]
      },
      {
       "output_type": "stream",
       "stream": "stdout",
       "text": [
        "\n",
        "-------- Estoy en el archivo: experiment_theta_43.5_phi_308.5.dat---------"
       ]
      },
      {
       "output_type": "stream",
       "stream": "stdout",
       "text": [
        "\n",
        "-------- Estoy en el archivo: experiment_theta_43.7_phi_271.8.dat---------"
       ]
      },
      {
       "output_type": "stream",
       "stream": "stdout",
       "text": [
        "\n",
        "-------- Estoy en el archivo: experiment_theta_44.1_phi_97.7.dat---------"
       ]
      },
      {
       "output_type": "stream",
       "stream": "stdout",
       "text": [
        "\n",
        "-------- Estoy en el archivo: experiment_theta_44.2_phi_256.7.dat---------"
       ]
      },
      {
       "output_type": "stream",
       "stream": "stdout",
       "text": [
        "\n",
        "-------- Estoy en el archivo: experiment_theta_44.3_phi_6.1.dat---------"
       ]
      },
      {
       "output_type": "stream",
       "stream": "stdout",
       "text": [
        "\n",
        "-------- Estoy en el archivo: experiment_theta_44.3_phi_357.7.dat---------"
       ]
      },
      {
       "output_type": "stream",
       "stream": "stdout",
       "text": [
        "\n",
        "-------- Estoy en el archivo: experiment_theta_44.4_phi_58.2.dat---------\n",
        "-------- Estoy en el archivo: experiment_theta_44.4_phi_216.4.dat---------"
       ]
      },
      {
       "output_type": "stream",
       "stream": "stdout",
       "text": [
        "\n",
        "-------- Estoy en el archivo: experiment_theta_44.7_phi_134.8.dat---------"
       ]
      },
      {
       "output_type": "stream",
       "stream": "stdout",
       "text": [
        "\n",
        "-------- Estoy en el archivo: experiment_theta_44.7_phi_255.8.dat---------"
       ]
      },
      {
       "output_type": "stream",
       "stream": "stdout",
       "text": [
        "\n",
        "-------- Estoy en el archivo: experiment_theta_44.8_phi_175.4.dat---------"
       ]
      },
      {
       "output_type": "stream",
       "stream": "stdout",
       "text": [
        "\n",
        "-------- Estoy en el archivo: experiment_theta_45.0_phi_160.4.dat---------"
       ]
      },
      {
       "output_type": "stream",
       "stream": "stdout",
       "text": [
        "\n",
        "-------- Estoy en el archivo: experiment_theta_45.3_phi_153.9.dat---------"
       ]
      },
      {
       "output_type": "stream",
       "stream": "stdout",
       "text": [
        "\n",
        "-------- Estoy en el archivo: experiment_theta_45.8_phi_128.7.dat---------"
       ]
      },
      {
       "output_type": "stream",
       "stream": "stdout",
       "text": [
        "\n",
        "-------- Estoy en el archivo: experiment_theta_45.8_phi_241.6.dat---------"
       ]
      },
      {
       "output_type": "stream",
       "stream": "stdout",
       "text": [
        "\n",
        "-------- Estoy en el archivo: experiment_theta_45.9_phi_111.3.dat---------"
       ]
      },
      {
       "output_type": "stream",
       "stream": "stdout",
       "text": [
        "\n",
        "-------- Estoy en el archivo: experiment_theta_46.0_phi_246.7.dat---------"
       ]
      },
      {
       "output_type": "stream",
       "stream": "stdout",
       "text": [
        "\n",
        "-------- Estoy en el archivo: experiment_theta_46.6_phi_177.5.dat---------"
       ]
      },
      {
       "output_type": "stream",
       "stream": "stdout",
       "text": [
        "\n",
        "-------- Estoy en el archivo: experiment_theta_46.7_phi_21.5.dat---------"
       ]
      },
      {
       "output_type": "stream",
       "stream": "stdout",
       "text": [
        "\n",
        "-------- Estoy en el archivo: experiment_theta_47.1_phi_69.9.dat---------"
       ]
      },
      {
       "output_type": "stream",
       "stream": "stdout",
       "text": [
        "\n",
        "-------- Estoy en el archivo: experiment_theta_47.6_phi_287.0.dat---------"
       ]
      },
      {
       "output_type": "stream",
       "stream": "stdout",
       "text": [
        "\n",
        "-------- Estoy en el archivo: experiment_theta_47.7_phi_280.1.dat---------"
       ]
      },
      {
       "output_type": "stream",
       "stream": "stdout",
       "text": [
        "\n",
        "-------- Estoy en el archivo: experiment_theta_47.8_phi_90.5.dat---------"
       ]
      },
      {
       "output_type": "stream",
       "stream": "stdout",
       "text": [
        "\n",
        "-------- Estoy en el archivo: experiment_theta_48.0_phi_334.3.dat---------"
       ]
      },
      {
       "output_type": "stream",
       "stream": "stdout",
       "text": [
        "\n",
        "-------- Estoy en el archivo: experiment_theta_48.3_phi_203.1.dat---------"
       ]
      },
      {
       "output_type": "stream",
       "stream": "stdout",
       "text": [
        "\n",
        "-------- Estoy en el archivo: experiment_theta_48.4_phi_198.2.dat---------"
       ]
      },
      {
       "output_type": "stream",
       "stream": "stdout",
       "text": [
        "\n",
        "-------- Estoy en el archivo: experiment_theta_48.5_phi_127.0.dat---------"
       ]
      },
      {
       "output_type": "stream",
       "stream": "stdout",
       "text": [
        "\n",
        "-------- Estoy en el archivo: experiment_theta_48.5_phi_255.5.dat---------"
       ]
      },
      {
       "output_type": "stream",
       "stream": "stdout",
       "text": [
        "\n",
        "-------- Estoy en el archivo: experiment_theta_48.6_phi_166.6.dat---------"
       ]
      },
      {
       "output_type": "stream",
       "stream": "stdout",
       "text": [
        "\n",
        "-------- Estoy en el archivo: experiment_theta_48.9_phi_260.2.dat---------"
       ]
      },
      {
       "output_type": "stream",
       "stream": "stdout",
       "text": [
        "\n",
        "-------- Estoy en el archivo: experiment_theta_49.0_phi_60.2.dat---------"
       ]
      },
      {
       "output_type": "stream",
       "stream": "stdout",
       "text": [
        "\n",
        "-------- Estoy en el archivo: experiment_theta_49.2_phi_300.5.dat---------"
       ]
      },
      {
       "output_type": "stream",
       "stream": "stdout",
       "text": [
        "\n",
        "-------- Estoy en el archivo: experiment_theta_49.3_phi_38.2.dat---------"
       ]
      },
      {
       "output_type": "stream",
       "stream": "stdout",
       "text": [
        "\n",
        "-------- Estoy en el archivo: experiment_theta_49.6_phi_315.9.dat---------"
       ]
      },
      {
       "output_type": "stream",
       "stream": "stdout",
       "text": [
        "\n",
        "-------- Estoy en el archivo: experiment_theta_49.6_phi_334.8.dat---------\n",
        "-------- Estoy en el archivo: experiment_theta_50.0_phi_242.5.dat---------"
       ]
      },
      {
       "output_type": "stream",
       "stream": "stdout",
       "text": [
        "\n",
        "-------- Estoy en el archivo: experiment_theta_50.1_phi_52.5.dat---------"
       ]
      },
      {
       "output_type": "stream",
       "stream": "stdout",
       "text": [
        "\n",
        "-------- Estoy en el archivo: experiment_theta_50.1_phi_178.6.dat---------"
       ]
      },
      {
       "output_type": "stream",
       "stream": "stdout",
       "text": [
        "\n",
        "-------- Estoy en el archivo: experiment_theta_50.4_phi_351.9.dat---------"
       ]
      },
      {
       "output_type": "stream",
       "stream": "stdout",
       "text": [
        "\n",
        "-------- Estoy en el archivo: experiment_theta_50.8_phi_300.9.dat---------"
       ]
      },
      {
       "output_type": "stream",
       "stream": "stdout",
       "text": [
        "\n",
        "-------- Estoy en el archivo: experiment_theta_50.9_phi_236.6.dat---------"
       ]
      },
      {
       "output_type": "stream",
       "stream": "stdout",
       "text": [
        "\n",
        "-------- Estoy en el archivo: experiment_theta_51.0_phi_168.7.dat---------"
       ]
      },
      {
       "output_type": "stream",
       "stream": "stdout",
       "text": [
        "\n",
        "-------- Estoy en el archivo: experiment_theta_51.7_phi_216.1.dat---------"
       ]
      },
      {
       "output_type": "stream",
       "stream": "stdout",
       "text": [
        "\n",
        "-------- Estoy en el archivo: experiment_theta_51.9_phi_38.1.dat---------"
       ]
      },
      {
       "output_type": "stream",
       "stream": "stdout",
       "text": [
        "\n",
        "-------- Estoy en el archivo: experiment_theta_51.9_phi_159.4.dat---------\n",
        "-------- Estoy en el archivo: experiment_theta_51.9_phi_209.5.dat---------"
       ]
      },
      {
       "output_type": "stream",
       "stream": "stdout",
       "text": [
        "\n",
        "-------- Estoy en el archivo: experiment_theta_52.0_phi_295.6.dat---------"
       ]
      },
      {
       "output_type": "stream",
       "stream": "stdout",
       "text": [
        "\n",
        "-------- Estoy en el archivo: experiment_theta_52.1_phi_224.2.dat---------"
       ]
      },
      {
       "output_type": "stream",
       "stream": "stdout",
       "text": [
        "\n",
        "-------- Estoy en el archivo: experiment_theta_52.8_phi_281.9.dat---------"
       ]
      },
      {
       "output_type": "stream",
       "stream": "stdout",
       "text": [
        "\n",
        "-------- Estoy en el archivo: experiment_theta_52.8_phi_284.6.dat---------\n",
        "-------- Estoy en el archivo: experiment_theta_52.8_phi_353.9.dat---------"
       ]
      },
      {
       "output_type": "stream",
       "stream": "stdout",
       "text": [
        "\n",
        "-------- Estoy en el archivo: experiment_theta_53.4_phi_153.1.dat---------"
       ]
      },
      {
       "output_type": "stream",
       "stream": "stdout",
       "text": [
        "\n",
        "-------- Estoy en el archivo: experiment_theta_53.6_phi_135.9.dat---------"
       ]
      },
      {
       "output_type": "stream",
       "stream": "stdout",
       "text": [
        "\n",
        "-------- Estoy en el archivo: experiment_theta_54.2_phi_273.7.dat---------"
       ]
      },
      {
       "output_type": "stream",
       "stream": "stdout",
       "text": [
        "\n",
        "-------- Estoy en el archivo: experiment_theta_54.3_phi_121.7.dat---------"
       ]
      },
      {
       "output_type": "stream",
       "stream": "stdout",
       "text": [
        "\n",
        "-------- Estoy en el archivo: experiment_theta_54.4_phi_289.4.dat---------"
       ]
      },
      {
       "output_type": "stream",
       "stream": "stdout",
       "text": [
        "\n",
        "-------- Estoy en el archivo: experiment_theta_54.6_phi_109.4.dat---------"
       ]
      },
      {
       "output_type": "stream",
       "stream": "stdout",
       "text": [
        "\n",
        "-------- Estoy en el archivo: experiment_theta_54.9_phi_156.1.dat---------"
       ]
      },
      {
       "output_type": "stream",
       "stream": "stdout",
       "text": [
        "\n",
        "-------- Estoy en el archivo: experiment_theta_55.3_phi_321.1.dat---------"
       ]
      },
      {
       "output_type": "stream",
       "stream": "stdout",
       "text": [
        "\n",
        "-------- Estoy en el archivo: experiment_theta_55.5_phi_66.7.dat---------"
       ]
      },
      {
       "output_type": "stream",
       "stream": "stdout",
       "text": [
        "\n",
        "-------- Estoy en el archivo: experiment_theta_55.5_phi_277.2.dat---------"
       ]
      },
      {
       "output_type": "stream",
       "stream": "stdout",
       "text": [
        "\n",
        "-------- Estoy en el archivo: experiment_theta_55.7_phi_90.4.dat---------"
       ]
      },
      {
       "output_type": "stream",
       "stream": "stdout",
       "text": [
        "\n",
        "-------- Estoy en el archivo: experiment_theta_55.9_phi_6.8.dat---------"
       ]
      },
      {
       "output_type": "stream",
       "stream": "stdout",
       "text": [
        "\n",
        "-------- Estoy en el archivo: experiment_theta_55.9_phi_61.2.dat---------\n",
        "-------- Estoy en el archivo: experiment_theta_56.0_phi_29.4.dat---------"
       ]
      },
      {
       "output_type": "stream",
       "stream": "stdout",
       "text": [
        "\n",
        "-------- Estoy en el archivo: experiment_theta_56.1_phi_0.6.dat---------"
       ]
      },
      {
       "output_type": "stream",
       "stream": "stdout",
       "text": [
        "\n",
        "-------- Estoy en el archivo: experiment_theta_56.2_phi_113.6.dat---------"
       ]
      },
      {
       "output_type": "stream",
       "stream": "stdout",
       "text": [
        "\n",
        "-------- Estoy en el archivo: experiment_theta_56.3_phi_4.6.dat---------"
       ]
      },
      {
       "output_type": "stream",
       "stream": "stdout",
       "text": [
        "\n",
        "-------- Estoy en el archivo: experiment_theta_56.4_phi_252.4.dat---------"
       ]
      },
      {
       "output_type": "stream",
       "stream": "stdout",
       "text": [
        "\n",
        "-------- Estoy en el archivo: experiment_theta_57.0_phi_5.5.dat---------"
       ]
      },
      {
       "output_type": "stream",
       "stream": "stdout",
       "text": [
        "\n",
        "-------- Estoy en el archivo: experiment_theta_57.3_phi_234.8.dat---------"
       ]
      },
      {
       "output_type": "stream",
       "stream": "stdout",
       "text": [
        "\n",
        "-------- Estoy en el archivo: experiment_theta_57.4_phi_320.3.dat---------"
       ]
      },
      {
       "output_type": "stream",
       "stream": "stdout",
       "text": [
        "\n",
        "-------- Estoy en el archivo: experiment_theta_57.8_phi_23.5.dat---------"
       ]
      },
      {
       "output_type": "stream",
       "stream": "stdout",
       "text": [
        "\n",
        "-------- Estoy en el archivo: experiment_theta_58.0_phi_126.0.dat---------"
       ]
      },
      {
       "output_type": "stream",
       "stream": "stdout",
       "text": [
        "\n",
        "-------- Estoy en el archivo: experiment_theta_58.2_phi_132.4.dat---------"
       ]
      },
      {
       "output_type": "stream",
       "stream": "stdout",
       "text": [
        "\n",
        "-------- Estoy en el archivo: experiment_theta_58.2_phi_341.5.dat---------"
       ]
      },
      {
       "output_type": "stream",
       "stream": "stdout",
       "text": [
        "\n",
        "-------- Estoy en el archivo: experiment_theta_58.4_phi_175.3.dat---------"
       ]
      },
      {
       "output_type": "stream",
       "stream": "stdout",
       "text": [
        "\n",
        "-------- Estoy en el archivo: experiment_theta_58.5_phi_306.8.dat---------"
       ]
      },
      {
       "output_type": "stream",
       "stream": "stdout",
       "text": [
        "\n",
        "-------- Estoy en el archivo: experiment_theta_58.8_phi_214.6.dat---------"
       ]
      },
      {
       "output_type": "stream",
       "stream": "stdout",
       "text": [
        "\n",
        "-------- Estoy en el archivo: experiment_theta_59.3_phi_340.4.dat---------"
       ]
      },
      {
       "output_type": "stream",
       "stream": "stdout",
       "text": [
        "\n",
        "-------- Estoy en el archivo: experiment_theta_59.4_phi_224.5.dat---------"
       ]
      },
      {
       "output_type": "stream",
       "stream": "stdout",
       "text": [
        "\n",
        "-------- Estoy en el archivo: experiment_theta_59.7_phi_274.7.dat---------"
       ]
      },
      {
       "output_type": "stream",
       "stream": "stdout",
       "text": [
        "\n",
        "-------- Estoy en el archivo: experiment_theta_59.8_phi_324.0.dat---------"
       ]
      },
      {
       "output_type": "stream",
       "stream": "stdout",
       "text": [
        "\n",
        "-------- Estoy en el archivo: experiment_theta_60.1_phi_112.0.dat---------"
       ]
      },
      {
       "output_type": "stream",
       "stream": "stdout",
       "text": [
        "\n",
        "-------- Estoy en el archivo: experiment_theta_60.1_phi_305.5.dat---------"
       ]
      },
      {
       "output_type": "stream",
       "stream": "stdout",
       "text": [
        "\n",
        "-------- Estoy en el archivo: experiment_theta_60.2_phi_208.0.dat---------"
       ]
      },
      {
       "output_type": "stream",
       "stream": "stdout",
       "text": [
        "\n",
        "-------- Estoy en el archivo: experiment_theta_60.3_phi_211.5.dat---------"
       ]
      },
      {
       "output_type": "stream",
       "stream": "stdout",
       "text": [
        "\n",
        "-------- Estoy en el archivo: experiment_theta_60.6_phi_305.8.dat---------"
       ]
      },
      {
       "output_type": "stream",
       "stream": "stdout",
       "text": [
        "\n",
        "-------- Estoy en el archivo: experiment_theta_60.8_phi_234.5.dat---------"
       ]
      },
      {
       "output_type": "stream",
       "stream": "stdout",
       "text": [
        "\n",
        "-------- Estoy en el archivo: experiment_theta_60.8_phi_267.0.dat---------\n",
        "-------- Estoy en el archivo: experiment_theta_60.8_phi_271.5.dat---------\n",
        "-------- Estoy en el archivo: experiment_theta_61.0_phi_188.3.dat---------"
       ]
      },
      {
       "output_type": "stream",
       "stream": "stdout",
       "text": [
        "\n",
        "-------- Estoy en el archivo: experiment_theta_61.1_phi_305.0.dat---------"
       ]
      },
      {
       "output_type": "stream",
       "stream": "stdout",
       "text": [
        "\n",
        "-------- Estoy en el archivo: experiment_theta_61.4_phi_190.4.dat---------"
       ]
      },
      {
       "output_type": "stream",
       "stream": "stdout",
       "text": [
        "\n",
        "-------- Estoy en el archivo: experiment_theta_61.5_phi_125.2.dat---------"
       ]
      },
      {
       "output_type": "stream",
       "stream": "stdout",
       "text": [
        "\n",
        "-------- Estoy en el archivo: experiment_theta_61.5_phi_272.1.dat---------"
       ]
      },
      {
       "output_type": "stream",
       "stream": "stdout",
       "text": [
        "\n",
        "-------- Estoy en el archivo: experiment_theta_61.6_phi_146.5.dat---------"
       ]
      },
      {
       "output_type": "stream",
       "stream": "stdout",
       "text": [
        "\n",
        "-------- Estoy en el archivo: experiment_theta_61.7_phi_131.4.dat---------"
       ]
      },
      {
       "output_type": "stream",
       "stream": "stdout",
       "text": [
        "\n",
        "-------- Estoy en el archivo: experiment_theta_62.0_phi_177.1.dat---------"
       ]
      },
      {
       "output_type": "stream",
       "stream": "stdout",
       "text": [
        "\n",
        "-------- Estoy en el archivo: experiment_theta_62.0_phi_349.9.dat---------"
       ]
      },
      {
       "output_type": "stream",
       "stream": "stdout",
       "text": [
        "\n",
        "-------- Estoy en el archivo: experiment_theta_62.1_phi_183.1.dat---------"
       ]
      },
      {
       "output_type": "stream",
       "stream": "stdout",
       "text": [
        "\n",
        "-------- Estoy en el archivo: experiment_theta_62.3_phi_46.4.dat---------"
       ]
      },
      {
       "output_type": "stream",
       "stream": "stdout",
       "text": [
        "\n",
        "-------- Estoy en el archivo: experiment_theta_62.4_phi_321.6.dat---------"
       ]
      },
      {
       "output_type": "stream",
       "stream": "stdout",
       "text": [
        "\n",
        "-------- Estoy en el archivo: experiment_theta_62.5_phi_148.6.dat---------"
       ]
      },
      {
       "output_type": "stream",
       "stream": "stdout",
       "text": [
        "\n",
        "-------- Estoy en el archivo: experiment_theta_62.5_phi_267.3.dat---------\n",
        "-------- Estoy en el archivo: experiment_theta_62.6_phi_20.1.dat---------"
       ]
      },
      {
       "output_type": "stream",
       "stream": "stdout",
       "text": [
        "\n",
        "-------- Estoy en el archivo: experiment_theta_62.6_phi_122.4.dat---------\n",
        "-------- Estoy en el archivo: experiment_theta_62.6_phi_267.9.dat---------"
       ]
      },
      {
       "output_type": "stream",
       "stream": "stdout",
       "text": [
        "\n",
        "-------- Estoy en el archivo: experiment_theta_62.8_phi_184.9.dat---------"
       ]
      },
      {
       "output_type": "stream",
       "stream": "stdout",
       "text": [
        "\n",
        "-------- Estoy en el archivo: experiment_theta_62.8_phi_341.4.dat---------"
       ]
      },
      {
       "output_type": "stream",
       "stream": "stdout",
       "text": [
        "\n",
        "-------- Estoy en el archivo: experiment_theta_63.0_phi_246.4.dat---------"
       ]
      },
      {
       "output_type": "stream",
       "stream": "stdout",
       "text": [
        "\n",
        "-------- Estoy en el archivo: experiment_theta_63.4_phi_94.2.dat---------"
       ]
      },
      {
       "output_type": "stream",
       "stream": "stdout",
       "text": [
        "\n",
        "-------- Estoy en el archivo: experiment_theta_63.5_phi_115.7.dat---------"
       ]
      },
      {
       "output_type": "stream",
       "stream": "stdout",
       "text": [
        "\n",
        "-------- Estoy en el archivo: experiment_theta_63.6_phi_182.8.dat---------"
       ]
      },
      {
       "output_type": "stream",
       "stream": "stdout",
       "text": [
        "\n",
        "-------- Estoy en el archivo: experiment_theta_63.8_phi_25.6.dat---------"
       ]
      },
      {
       "output_type": "stream",
       "stream": "stdout",
       "text": [
        "\n",
        "-------- Estoy en el archivo: experiment_theta_63.8_phi_34.9.dat---------\n",
        "-------- Estoy en el archivo: experiment_theta_63.9_phi_49.4.dat---------"
       ]
      },
      {
       "output_type": "stream",
       "stream": "stdout",
       "text": [
        "\n",
        "-------- Estoy en el archivo: experiment_theta_64.1_phi_36.5.dat---------"
       ]
      },
      {
       "output_type": "stream",
       "stream": "stdout",
       "text": [
        "\n",
        "-------- Estoy en el archivo: experiment_theta_64.2_phi_102.3.dat---------"
       ]
      },
      {
       "output_type": "stream",
       "stream": "stdout",
       "text": [
        "\n",
        "-------- Estoy en el archivo: experiment_theta_64.2_phi_325.5.dat---------"
       ]
      },
      {
       "output_type": "stream",
       "stream": "stdout",
       "text": [
        "\n",
        "-------- Estoy en el archivo: experiment_theta_64.3_phi_357.6.dat---------"
       ]
      },
      {
       "output_type": "stream",
       "stream": "stdout",
       "text": [
        "\n",
        "-------- Estoy en el archivo: experiment_theta_64.4_phi_29.9.dat---------\n",
        "-------- Estoy en el archivo: experiment_theta_64.4_phi_54.1.dat---------\n",
        "-------- Estoy en el archivo: experiment_theta_64.5_phi_46.0.dat---------"
       ]
      },
      {
       "output_type": "stream",
       "stream": "stdout",
       "text": [
        "\n",
        "-------- Estoy en el archivo: experiment_theta_64.5_phi_74.3.dat---------\n",
        "-------- Estoy en el archivo: experiment_theta_64.7_phi_175.6.dat---------"
       ]
      },
      {
       "output_type": "stream",
       "stream": "stdout",
       "text": [
        "\n",
        "-------- Estoy en el archivo: experiment_theta_64.7_phi_179.2.dat---------\n",
        "-------- Estoy en el archivo: experiment_theta_64.9_phi_41.0.dat---------"
       ]
      },
      {
       "output_type": "stream",
       "stream": "stdout",
       "text": [
        "\n",
        "-------- Estoy en el archivo: experiment_theta_64.9_phi_72.6.dat---------\n",
        "-------- Estoy en el archivo: experiment_theta_65.2_phi_26.0.dat---------"
       ]
      },
      {
       "output_type": "stream",
       "stream": "stdout",
       "text": [
        "\n",
        "-------- Estoy en el archivo: experiment_theta_65.2_phi_79.7.dat---------\n",
        "-------- Estoy en el archivo: experiment_theta_65.4_phi_127.1.dat---------"
       ]
      },
      {
       "output_type": "stream",
       "stream": "stdout",
       "text": [
        "\n",
        "-------- Estoy en el archivo: experiment_theta_65.6_phi_84.0.dat---------"
       ]
      },
      {
       "output_type": "stream",
       "stream": "stdout",
       "text": [
        "\n",
        "-------- Estoy en el archivo: experiment_theta_65.7_phi_352.5.dat---------"
       ]
      },
      {
       "output_type": "stream",
       "stream": "stdout",
       "text": [
        "\n",
        "-------- Estoy en el archivo: experiment_theta_65.8_phi_30.1.dat---------\n",
        "-------- Estoy en el archivo: experiment_theta_65.9_phi_120.8.dat---------"
       ]
      },
      {
       "output_type": "stream",
       "stream": "stdout",
       "text": [
        "\n",
        "-------- Estoy en el archivo: experiment_theta_65.9_phi_278.1.dat---------"
       ]
      },
      {
       "output_type": "stream",
       "stream": "stdout",
       "text": [
        "\n",
        "-------- Estoy en el archivo: experiment_theta_66.2_phi_93.6.dat---------"
       ]
      },
      {
       "output_type": "stream",
       "stream": "stdout",
       "text": [
        "\n",
        "-------- Estoy en el archivo: experiment_theta_66.3_phi_186.3.dat---------"
       ]
      },
      {
       "output_type": "stream",
       "stream": "stdout",
       "text": [
        "\n",
        "-------- Estoy en el archivo: experiment_theta_66.6_phi_172.4.dat---------"
       ]
      },
      {
       "output_type": "stream",
       "stream": "stdout",
       "text": [
        "\n",
        "-------- Estoy en el archivo: experiment_theta_66.7_phi_67.8.dat---------"
       ]
      },
      {
       "output_type": "stream",
       "stream": "stdout",
       "text": [
        "\n",
        "-------- Estoy en el archivo: experiment_theta_66.7_phi_267.2.dat---------"
       ]
      },
      {
       "output_type": "stream",
       "stream": "stdout",
       "text": [
        "\n",
        "-------- Estoy en el archivo: experiment_theta_66.7_phi_305.1.dat---------\n",
        "-------- Estoy en el archivo: experiment_theta_66.9_phi_15.3.dat---------"
       ]
      },
      {
       "output_type": "stream",
       "stream": "stdout",
       "text": [
        "\n",
        "-------- Estoy en el archivo: experiment_theta_66.9_phi_166.6.dat---------"
       ]
      },
      {
       "output_type": "stream",
       "stream": "stdout",
       "text": [
        "\n",
        "-------- Estoy en el archivo: experiment_theta_66.9_phi_202.2.dat---------\n",
        "-------- Estoy en el archivo: experiment_theta_67.0_phi_149.2.dat---------"
       ]
      },
      {
       "output_type": "stream",
       "stream": "stdout",
       "text": [
        "\n",
        "-------- Estoy en el archivo: experiment_theta_67.2_phi_151.4.dat---------"
       ]
      },
      {
       "output_type": "stream",
       "stream": "stdout",
       "text": [
        "\n",
        "-------- Estoy en el archivo: experiment_theta_67.3_phi_210.6.dat---------"
       ]
      },
      {
       "output_type": "stream",
       "stream": "stdout",
       "text": [
        "\n",
        "-------- Estoy en el archivo: experiment_theta_67.4_phi_310.1.dat---------"
       ]
      },
      {
       "output_type": "stream",
       "stream": "stdout",
       "text": [
        "\n",
        "-------- Estoy en el archivo: experiment_theta_67.6_phi_269.8.dat---------"
       ]
      },
      {
       "output_type": "stream",
       "stream": "stdout",
       "text": [
        "\n",
        "-------- Estoy en el archivo: experiment_theta_67.7_phi_177.2.dat---------"
       ]
      },
      {
       "output_type": "stream",
       "stream": "stdout",
       "text": [
        "\n",
        "-------- Estoy en el archivo: experiment_theta_67.8_phi_20.5.dat---------"
       ]
      },
      {
       "output_type": "stream",
       "stream": "stdout",
       "text": [
        "\n",
        "-------- Estoy en el archivo: experiment_theta_68.0_phi_255.8.dat---------"
       ]
      },
      {
       "output_type": "stream",
       "stream": "stdout",
       "text": [
        "\n",
        "-------- Estoy en el archivo: experiment_theta_68.1_phi_48.7.dat---------"
       ]
      },
      {
       "output_type": "stream",
       "stream": "stdout",
       "text": [
        "\n",
        "-------- Estoy en el archivo: experiment_theta_68.1_phi_153.0.dat---------\n",
        "-------- Estoy en el archivo: experiment_theta_68.2_phi_237.0.dat---------"
       ]
      },
      {
       "output_type": "stream",
       "stream": "stdout",
       "text": [
        "\n",
        "-------- Estoy en el archivo: experiment_theta_68.6_phi_74.6.dat---------"
       ]
      },
      {
       "output_type": "stream",
       "stream": "stdout",
       "text": [
        "\n",
        "-------- Estoy en el archivo: experiment_theta_68.6_phi_219.9.dat---------"
       ]
      },
      {
       "output_type": "stream",
       "stream": "stdout",
       "text": [
        "\n",
        "-------- Estoy en el archivo: experiment_theta_68.8_phi_316.1.dat---------"
       ]
      },
      {
       "output_type": "stream",
       "stream": "stdout",
       "text": [
        "\n",
        "-------- Estoy en el archivo: experiment_theta_69.1_phi_295.9.dat---------"
       ]
      },
      {
       "output_type": "stream",
       "stream": "stdout",
       "text": [
        "\n",
        "-------- Estoy en el archivo: experiment_theta_69.1_phi_309.6.dat---------\n",
        "-------- Estoy en el archivo: experiment_theta_69.1_phi_332.4.dat---------\n",
        "-------- Estoy en el archivo: experiment_theta_69.2_phi_230.7.dat---------"
       ]
      },
      {
       "output_type": "stream",
       "stream": "stdout",
       "text": [
        "\n",
        "-------- Estoy en el archivo: experiment_theta_69.3_phi_271.6.dat---------"
       ]
      },
      {
       "output_type": "stream",
       "stream": "stdout",
       "text": [
        "\n",
        "-------- Estoy en el archivo: experiment_theta_69.4_phi_291.6.dat---------"
       ]
      },
      {
       "output_type": "stream",
       "stream": "stdout",
       "text": [
        "\n",
        "-------- Estoy en el archivo: experiment_theta_69.5_phi_179.1.dat---------"
       ]
      },
      {
       "output_type": "stream",
       "stream": "stdout",
       "text": [
        "\n",
        "-------- Estoy en el archivo: experiment_theta_69.5_phi_289.1.dat---------\n",
        "-------- Estoy en el archivo: experiment_theta_69.6_phi_290.8.dat---------"
       ]
      },
      {
       "output_type": "stream",
       "stream": "stdout",
       "text": [
        "\n",
        "-------- Estoy en el archivo: experiment_theta_69.7_phi_136.3.dat---------"
       ]
      },
      {
       "output_type": "stream",
       "stream": "stdout",
       "text": [
        "\n",
        "-------- Estoy en el archivo: experiment_theta_69.9_phi_131.8.dat---------"
       ]
      },
      {
       "output_type": "stream",
       "stream": "stdout",
       "text": [
        "\n",
        "-------- Estoy en el archivo: experiment_theta_70.0_phi_83.5.dat---------"
       ]
      },
      {
       "output_type": "stream",
       "stream": "stdout",
       "text": [
        "\n",
        "-------- Estoy en el archivo: experiment_theta_70.1_phi_226.3.dat---------"
       ]
      },
      {
       "output_type": "stream",
       "stream": "stdout",
       "text": [
        "\n",
        "-------- Estoy en el archivo: experiment_theta_70.2_phi_149.1.dat---------"
       ]
      },
      {
       "output_type": "stream",
       "stream": "stdout",
       "text": [
        "\n",
        "-------- Estoy en el archivo: experiment_theta_70.3_phi_246.6.dat---------"
       ]
      },
      {
       "output_type": "stream",
       "stream": "stdout",
       "text": [
        "\n",
        "-------- Estoy en el archivo: experiment_theta_70.4_phi_154.8.dat---------"
       ]
      },
      {
       "output_type": "stream",
       "stream": "stdout",
       "text": [
        "\n",
        "-------- Estoy en el archivo: experiment_theta_70.5_phi_73.0.dat---------"
       ]
      },
      {
       "output_type": "stream",
       "stream": "stdout",
       "text": [
        "\n",
        "-------- Estoy en el archivo: experiment_theta_70.8_phi_15.1.dat---------"
       ]
      },
      {
       "output_type": "stream",
       "stream": "stdout",
       "text": [
        "\n",
        "-------- Estoy en el archivo: experiment_theta_71.3_phi_216.8.dat---------"
       ]
      },
      {
       "output_type": "stream",
       "stream": "stdout",
       "text": [
        "\n",
        "-------- Estoy en el archivo: experiment_theta_71.4_phi_118.4.dat---------"
       ]
      },
      {
       "output_type": "stream",
       "stream": "stdout",
       "text": [
        "\n",
        "-------- Estoy en el archivo: experiment_theta_71.4_phi_203.4.dat---------"
       ]
      },
      {
       "output_type": "stream",
       "stream": "stdout",
       "text": [
        "\n",
        "-------- Estoy en el archivo: experiment_theta_71.5_phi_60.4.dat---------"
       ]
      },
      {
       "output_type": "stream",
       "stream": "stdout",
       "text": [
        "\n",
        "-------- Estoy en el archivo: experiment_theta_71.8_phi_100.5.dat---------"
       ]
      },
      {
       "output_type": "stream",
       "stream": "stdout",
       "text": [
        "\n",
        "-------- Estoy en el archivo: experiment_theta_72.0_phi_156.5.dat---------"
       ]
      },
      {
       "output_type": "stream",
       "stream": "stdout",
       "text": [
        "\n",
        "-------- Estoy en el archivo: experiment_theta_72.0_phi_316.9.dat---------\n",
        "-------- Estoy en el archivo: experiment_theta_72.1_phi_171.3.dat---------"
       ]
      },
      {
       "output_type": "stream",
       "stream": "stdout",
       "text": [
        "\n",
        "-------- Estoy en el archivo: experiment_theta_72.2_phi_316.4.dat---------"
       ]
      },
      {
       "output_type": "stream",
       "stream": "stdout",
       "text": [
        "\n",
        "-------- Estoy en el archivo: experiment_theta_72.4_phi_146.2.dat---------"
       ]
      },
      {
       "output_type": "stream",
       "stream": "stdout",
       "text": [
        "\n",
        "-------- Estoy en el archivo: experiment_theta_72.7_phi_237.1.dat---------"
       ]
      },
      {
       "output_type": "stream",
       "stream": "stdout",
       "text": [
        "\n",
        "-------- Estoy en el archivo: experiment_theta_72.8_phi_250.7.dat---------"
       ]
      },
      {
       "output_type": "stream",
       "stream": "stdout",
       "text": [
        "\n",
        "-------- Estoy en el archivo: experiment_theta_73.6_phi_49.8.dat---------"
       ]
      },
      {
       "output_type": "stream",
       "stream": "stdout",
       "text": [
        "\n",
        "-------- Estoy en el archivo: experiment_theta_73.6_phi_53.6.dat---------\n",
        "-------- Estoy en el archivo: experiment_theta_73.8_phi_242.3.dat---------"
       ]
      },
      {
       "output_type": "stream",
       "stream": "stdout",
       "text": [
        "\n",
        "-------- Estoy en el archivo: experiment_theta_73.9_phi_267.9.dat---------"
       ]
      },
      {
       "output_type": "stream",
       "stream": "stdout",
       "text": [
        "\n",
        "-------- Estoy en el archivo: experiment_theta_74.1_phi_226.1.dat---------"
       ]
      },
      {
       "output_type": "stream",
       "stream": "stdout",
       "text": [
        "\n",
        "-------- Estoy en el archivo: experiment_theta_74.2_phi_193.7.dat---------"
       ]
      },
      {
       "output_type": "stream",
       "stream": "stdout",
       "text": [
        "\n",
        "-------- Estoy en el archivo: experiment_theta_74.3_phi_9.3.dat---------\n",
        "-------- Estoy en el archivo: experiment_theta_74.3_phi_79.8.dat---------"
       ]
      },
      {
       "output_type": "stream",
       "stream": "stdout",
       "text": [
        "\n",
        "-------- Estoy en el archivo: experiment_theta_74.3_phi_100.2.dat---------\n",
        "-------- Estoy en el archivo: experiment_theta_74.3_phi_345.8.dat---------"
       ]
      },
      {
       "output_type": "stream",
       "stream": "stdout",
       "text": [
        "\n",
        "-------- Estoy en el archivo: experiment_theta_74.6_phi_18.2.dat---------"
       ]
      },
      {
       "output_type": "stream",
       "stream": "stdout",
       "text": [
        "\n",
        "-------- Estoy en el archivo: experiment_theta_74.7_phi_13.3.dat---------"
       ]
      },
      {
       "output_type": "stream",
       "stream": "stdout",
       "text": [
        "\n",
        "-------- Estoy en el archivo: experiment_theta_74.9_phi_7.6.dat---------"
       ]
      },
      {
       "output_type": "stream",
       "stream": "stdout",
       "text": [
        "\n",
        "-------- Estoy en el archivo: experiment_theta_74.9_phi_134.9.dat---------\n",
        "-------- Estoy en el archivo: experiment_theta_74.9_phi_213.7.dat---------"
       ]
      },
      {
       "output_type": "stream",
       "stream": "stdout",
       "text": [
        "\n",
        "-------- Estoy en el archivo: experiment_theta_75.0_phi_304.2.dat---------"
       ]
      },
      {
       "output_type": "stream",
       "stream": "stdout",
       "text": [
        "\n",
        "-------- Estoy en el archivo: experiment_theta_75.0_phi_327.3.dat---------\n",
        "-------- Estoy en el archivo: experiment_theta_75.2_phi_307.1.dat---------"
       ]
      },
      {
       "output_type": "stream",
       "stream": "stdout",
       "text": [
        "\n",
        "-------- Estoy en el archivo: experiment_theta_75.4_phi_27.1.dat---------"
       ]
      },
      {
       "output_type": "stream",
       "stream": "stdout",
       "text": [
        "\n",
        "-------- Estoy en el archivo: experiment_theta_75.4_phi_101.8.dat---------\n",
        "-------- Estoy en el archivo: experiment_theta_75.4_phi_243.6.dat---------"
       ]
      },
      {
       "output_type": "stream",
       "stream": "stdout",
       "text": [
        "\n",
        "-------- Estoy en el archivo: experiment_theta_75.6_phi_189.5.dat---------"
       ]
      },
      {
       "output_type": "stream",
       "stream": "stdout",
       "text": [
        "\n",
        "-------- Estoy en el archivo: experiment_theta_75.7_phi_12.2.dat---------"
       ]
      },
      {
       "output_type": "stream",
       "stream": "stdout",
       "text": [
        "\n",
        "-------- Estoy en el archivo: experiment_theta_75.8_phi_86.1.dat---------"
       ]
      },
      {
       "output_type": "stream",
       "stream": "stdout",
       "text": [
        "\n",
        "-------- Estoy en el archivo: experiment_theta_75.8_phi_215.8.dat---------\n",
        "-------- Estoy en el archivo: experiment_theta_76.1_phi_23.7.dat---------"
       ]
      },
      {
       "output_type": "stream",
       "stream": "stdout",
       "text": [
        "\n",
        "-------- Estoy en el archivo: experiment_theta_76.2_phi_230.1.dat---------"
       ]
      },
      {
       "output_type": "stream",
       "stream": "stdout",
       "text": [
        "\n",
        "-------- Estoy en el archivo: experiment_theta_76.2_phi_284.2.dat---------\n",
        "-------- Estoy en el archivo: experiment_theta_76.3_phi_256.7.dat---------"
       ]
      },
      {
       "output_type": "stream",
       "stream": "stdout",
       "text": [
        "\n",
        "-------- Estoy en el archivo: experiment_theta_76.5_phi_316.8.dat---------"
       ]
      },
      {
       "output_type": "stream",
       "stream": "stdout",
       "text": [
        "\n",
        "-------- Estoy en el archivo: experiment_theta_76.7_phi_265.2.dat---------"
       ]
      },
      {
       "output_type": "stream",
       "stream": "stdout",
       "text": [
        "\n",
        "-------- Estoy en el archivo: experiment_theta_76.8_phi_118.1.dat---------"
       ]
      },
      {
       "output_type": "stream",
       "stream": "stdout",
       "text": [
        "\n",
        "-------- Estoy en el archivo: experiment_theta_76.8_phi_159.8.dat---------\n",
        "-------- Estoy en el archivo: experiment_theta_76.9_phi_343.9.dat---------"
       ]
      },
      {
       "output_type": "stream",
       "stream": "stdout",
       "text": [
        "\n",
        "-------- Estoy en el archivo: experiment_theta_77.1_phi_69.1.dat---------"
       ]
      },
      {
       "output_type": "stream",
       "stream": "stdout",
       "text": [
        "\n",
        "-------- Estoy en el archivo: experiment_theta_77.1_phi_312.9.dat---------"
       ]
      },
      {
       "output_type": "stream",
       "stream": "stdout",
       "text": [
        "\n",
        "-------- Estoy en el archivo: experiment_theta_77.3_phi_2.2.dat---------"
       ]
      },
      {
       "output_type": "stream",
       "stream": "stdout",
       "text": [
        "\n",
        "-------- Estoy en el archivo: experiment_theta_77.3_phi_233.3.dat---------"
       ]
      },
      {
       "output_type": "stream",
       "stream": "stdout",
       "text": [
        "\n",
        "-------- Estoy en el archivo: experiment_theta_77.4_phi_151.6.dat---------"
       ]
      },
      {
       "output_type": "stream",
       "stream": "stdout",
       "text": [
        "\n",
        "-------- Estoy en el archivo: experiment_theta_77.5_phi_85.4.dat---------"
       ]
      },
      {
       "output_type": "stream",
       "stream": "stdout",
       "text": [
        "\n",
        "-------- Estoy en el archivo: experiment_theta_77.5_phi_333.4.dat---------"
       ]
      },
      {
       "output_type": "stream",
       "stream": "stdout",
       "text": [
        "\n",
        "-------- Estoy en el archivo: experiment_theta_77.5_phi_340.3.dat---------\n",
        "-------- Estoy en el archivo: experiment_theta_77.6_phi_333.1.dat---------"
       ]
      },
      {
       "output_type": "stream",
       "stream": "stdout",
       "text": [
        "\n",
        "-------- Estoy en el archivo: experiment_theta_77.7_phi_236.0.dat---------"
       ]
      },
      {
       "output_type": "stream",
       "stream": "stdout",
       "text": [
        "\n",
        "-------- Estoy en el archivo: experiment_theta_77.7_phi_254.3.dat---------\n",
        "-------- Estoy en el archivo: experiment_theta_77.8_phi_76.1.dat---------"
       ]
      },
      {
       "output_type": "stream",
       "stream": "stdout",
       "text": [
        "\n",
        "-------- Estoy en el archivo: experiment_theta_77.8_phi_294.6.dat---------"
       ]
      },
      {
       "output_type": "stream",
       "stream": "stdout",
       "text": [
        "\n",
        "-------- Estoy en el archivo: experiment_theta_78.2_phi_36.9.dat---------"
       ]
      },
      {
       "output_type": "stream",
       "stream": "stdout",
       "text": [
        "\n",
        "-------- Estoy en el archivo: experiment_theta_78.7_phi_132.3.dat---------"
       ]
      },
      {
       "output_type": "stream",
       "stream": "stdout",
       "text": [
        "\n",
        "-------- Estoy en el archivo: experiment_theta_78.7_phi_222.3.dat---------"
       ]
      },
      {
       "output_type": "stream",
       "stream": "stdout",
       "text": [
        "\n",
        "-------- Estoy en el archivo: experiment_theta_78.8_phi_2.7.dat---------"
       ]
      },
      {
       "output_type": "stream",
       "stream": "stdout",
       "text": [
        "\n",
        "-------- Estoy en el archivo: experiment_theta_78.8_phi_228.1.dat---------"
       ]
      },
      {
       "output_type": "stream",
       "stream": "stdout",
       "text": [
        "\n",
        "-------- Estoy en el archivo: experiment_theta_78.8_phi_311.6.dat---------"
       ]
      },
      {
       "output_type": "stream",
       "stream": "stdout",
       "text": [
        "\n",
        "-------- Estoy en el archivo: experiment_theta_78.9_phi_30.7.dat---------"
       ]
      },
      {
       "output_type": "stream",
       "stream": "stdout",
       "text": [
        "\n",
        "-------- Estoy en el archivo: experiment_theta_78.9_phi_77.6.dat---------\n",
        "-------- Estoy en el archivo: experiment_theta_78.9_phi_291.1.dat---------"
       ]
      },
      {
       "output_type": "stream",
       "stream": "stdout",
       "text": [
        "\n",
        "-------- Estoy en el archivo: experiment_theta_79.3_phi_188.0.dat---------"
       ]
      },
      {
       "output_type": "stream",
       "stream": "stdout",
       "text": [
        "\n",
        "-------- Estoy en el archivo: experiment_theta_79.3_phi_220.4.dat---------\n",
        "-------- Estoy en el archivo: experiment_theta_79.3_phi_354.6.dat---------"
       ]
      },
      {
       "output_type": "stream",
       "stream": "stdout",
       "text": [
        "\n",
        "-------- Estoy en el archivo: experiment_theta_79.4_phi_102.9.dat---------"
       ]
      },
      {
       "output_type": "stream",
       "stream": "stdout",
       "text": [
        "\n",
        "-------- Estoy en el archivo: experiment_theta_79.6_phi_169.9.dat---------"
       ]
      },
      {
       "output_type": "stream",
       "stream": "stdout",
       "text": [
        "\n",
        "-------- Estoy en el archivo: experiment_theta_79.6_phi_262.0.dat---------"
       ]
      },
      {
       "output_type": "stream",
       "stream": "stdout",
       "text": [
        "\n",
        "-------- Estoy en el archivo: experiment_theta_79.8_phi_105.4.dat---------"
       ]
      },
      {
       "output_type": "stream",
       "stream": "stdout",
       "text": [
        "\n",
        "-------- Estoy en el archivo: experiment_theta_79.8_phi_306.4.dat---------"
       ]
      },
      {
       "output_type": "stream",
       "stream": "stdout",
       "text": [
        "\n",
        "-------- Estoy en el archivo: experiment_theta_79.9_phi_152.7.dat---------"
       ]
      },
      {
       "output_type": "stream",
       "stream": "stdout",
       "text": [
        "\n",
        "-------- Estoy en el archivo: experiment_theta_79.9_phi_273.7.dat---------"
       ]
      },
      {
       "output_type": "stream",
       "stream": "stdout",
       "text": [
        "\n",
        "-------- Estoy en el archivo: experiment_theta_79.9_phi_314.2.dat---------\n",
        "-------- Estoy en el archivo: experiment_theta_80.2_phi_22.5.dat---------"
       ]
      },
      {
       "output_type": "stream",
       "stream": "stdout",
       "text": [
        "\n",
        "-------- Estoy en el archivo: experiment_theta_80.2_phi_30.8.dat---------\n",
        "-------- Estoy en el archivo: experiment_theta_80.5_phi_143.3.dat---------"
       ]
      },
      {
       "output_type": "stream",
       "stream": "stdout",
       "text": [
        "\n",
        "-------- Estoy en el archivo: experiment_theta_80.5_phi_151.7.dat---------\n",
        "-------- Estoy en el archivo: experiment_theta_80.6_phi_7.0.dat---------"
       ]
      },
      {
       "output_type": "stream",
       "stream": "stdout",
       "text": [
        "\n",
        "-------- Estoy en el archivo: experiment_theta_80.7_phi_31.0.dat---------"
       ]
      },
      {
       "output_type": "stream",
       "stream": "stdout",
       "text": [
        "\n",
        "-------- Estoy en el archivo: experiment_theta_80.8_phi_176.3.dat---------"
       ]
      },
      {
       "output_type": "stream",
       "stream": "stdout",
       "text": [
        "\n",
        "-------- Estoy en el archivo: experiment_theta_81.1_phi_183.3.dat---------"
       ]
      },
      {
       "output_type": "stream",
       "stream": "stdout",
       "text": [
        "\n",
        "-------- Estoy en el archivo: experiment_theta_81.1_phi_249.3.dat---------\n",
        "-------- Estoy en el archivo: experiment_theta_81.1_phi_277.3.dat---------\n",
        "-------- Estoy en el archivo: experiment_theta_81.1_phi_319.6.dat---------"
       ]
      },
      {
       "output_type": "stream",
       "stream": "stdout",
       "text": [
        "\n",
        "-------- Estoy en el archivo: experiment_theta_81.2_phi_170.1.dat---------"
       ]
      },
      {
       "output_type": "stream",
       "stream": "stdout",
       "text": [
        "\n",
        "-------- Estoy en el archivo: experiment_theta_81.2_phi_238.3.dat---------\n",
        "-------- Estoy en el archivo: experiment_theta_81.5_phi_96.9.dat---------"
       ]
      },
      {
       "output_type": "stream",
       "stream": "stdout",
       "text": [
        "\n",
        "-------- Estoy en el archivo: experiment_theta_81.5_phi_200.0.dat---------\n",
        "-------- Estoy en el archivo: experiment_theta_81.5_phi_229.6.dat---------"
       ]
      },
      {
       "output_type": "stream",
       "stream": "stdout",
       "text": [
        "\n",
        "-------- Estoy en el archivo: experiment_theta_81.6_phi_203.8.dat---------"
       ]
      },
      {
       "output_type": "stream",
       "stream": "stdout",
       "text": [
        "\n",
        "-------- Estoy en el archivo: experiment_theta_81.8_phi_24.1.dat---------"
       ]
      },
      {
       "output_type": "stream",
       "stream": "stdout",
       "text": [
        "\n",
        "-------- Estoy en el archivo: experiment_theta_81.8_phi_116.8.dat---------\n",
        "-------- Estoy en el archivo: experiment_theta_82.1_phi_150.9.dat---------"
       ]
      },
      {
       "output_type": "stream",
       "stream": "stdout",
       "text": [
        "\n",
        "-------- Estoy en el archivo: experiment_theta_82.1_phi_269.9.dat---------\n",
        "-------- Estoy en el archivo: experiment_theta_82.2_phi_55.2.dat---------"
       ]
      },
      {
       "output_type": "stream",
       "stream": "stdout",
       "text": [
        "\n",
        "-------- Estoy en el archivo: experiment_theta_82.2_phi_158.9.dat---------\n",
        "-------- Estoy en el archivo: experiment_theta_82.4_phi_25.1.dat---------"
       ]
      },
      {
       "output_type": "stream",
       "stream": "stdout",
       "text": [
        "\n",
        "-------- Estoy en el archivo: experiment_theta_82.4_phi_131.5.dat---------\n",
        "-------- Estoy en el archivo: experiment_theta_82.5_phi_201.1.dat---------"
       ]
      },
      {
       "output_type": "stream",
       "stream": "stdout",
       "text": [
        "\n",
        "-------- Estoy en el archivo: experiment_theta_82.6_phi_212.9.dat---------"
       ]
      },
      {
       "output_type": "stream",
       "stream": "stdout",
       "text": [
        "\n",
        "-------- Estoy en el archivo: experiment_theta_82.9_phi_34.0.dat---------"
       ]
      },
      {
       "output_type": "stream",
       "stream": "stdout",
       "text": [
        "\n",
        "-------- Estoy en el archivo: experiment_theta_82.9_phi_107.5.dat---------\n",
        "-------- Estoy en el archivo: experiment_theta_82.9_phi_131.9.dat---------\n",
        "-------- Estoy en el archivo: experiment_theta_83.0_phi_85.8.dat---------"
       ]
      },
      {
       "output_type": "stream",
       "stream": "stdout",
       "text": [
        "\n",
        "-------- Estoy en el archivo: experiment_theta_83.1_phi_183.3.dat---------"
       ]
      },
      {
       "output_type": "stream",
       "stream": "stdout",
       "text": [
        "\n",
        "-------- Estoy en el archivo: experiment_theta_83.1_phi_202.3.dat---------\n",
        "-------- Estoy en el archivo: experiment_theta_83.1_phi_347.4.dat---------"
       ]
      },
      {
       "output_type": "stream",
       "stream": "stdout",
       "text": [
        "\n",
        "-------- Estoy en el archivo: experiment_theta_83.2_phi_308.5.dat---------"
       ]
      },
      {
       "output_type": "stream",
       "stream": "stdout",
       "text": [
        "\n",
        "-------- Estoy en el archivo: experiment_theta_83.6_phi_34.1.dat---------"
       ]
      },
      {
       "output_type": "stream",
       "stream": "stdout",
       "text": [
        "\n",
        "-------- Estoy en el archivo: experiment_theta_83.7_phi_122.2.dat---------"
       ]
      },
      {
       "output_type": "stream",
       "stream": "stdout",
       "text": [
        "\n",
        "-------- Estoy en el archivo: experiment_theta_83.7_phi_272.7.dat---------"
       ]
      },
      {
       "output_type": "stream",
       "stream": "stdout",
       "text": [
        "\n",
        "-------- Estoy en el archivo: experiment_theta_83.8_phi_195.4.dat---------"
       ]
      },
      {
       "output_type": "stream",
       "stream": "stdout",
       "text": [
        "\n",
        "-------- Estoy en el archivo: experiment_theta_83.8_phi_224.1.dat---------\n",
        "-------- Estoy en el archivo: experiment_theta_83.9_phi_188.9.dat---------"
       ]
      },
      {
       "output_type": "stream",
       "stream": "stdout",
       "text": [
        "\n",
        "-------- Estoy en el archivo: experiment_theta_84.0_phi_6.3.dat---------"
       ]
      },
      {
       "output_type": "stream",
       "stream": "stdout",
       "text": [
        "\n",
        "-------- Estoy en el archivo: experiment_theta_84.0_phi_338.1.dat---------"
       ]
      },
      {
       "output_type": "stream",
       "stream": "stdout",
       "text": [
        "\n",
        "-------- Estoy en el archivo: experiment_theta_84.2_phi_257.2.dat---------"
       ]
      },
      {
       "output_type": "stream",
       "stream": "stdout",
       "text": [
        "\n",
        "-------- Estoy en el archivo: experiment_theta_84.3_phi_38.2.dat---------"
       ]
      },
      {
       "output_type": "stream",
       "stream": "stdout",
       "text": [
        "\n",
        "-------- Estoy en el archivo: experiment_theta_84.3_phi_99.6.dat---------"
       ]
      },
      {
       "output_type": "stream",
       "stream": "stdout",
       "text": [
        "\n",
        "-------- Estoy en el archivo: experiment_theta_84.3_phi_134.1.dat---------\n",
        "-------- Estoy en el archivo: experiment_theta_84.3_phi_166.1.dat---------"
       ]
      },
      {
       "output_type": "stream",
       "stream": "stdout",
       "text": [
        "\n",
        "-------- Estoy en el archivo: experiment_theta_84.3_phi_260.1.dat---------"
       ]
      },
      {
       "output_type": "stream",
       "stream": "stdout",
       "text": [
        "\n",
        "-------- Estoy en el archivo: experiment_theta_84.4_phi_180.1.dat---------"
       ]
      },
      {
       "output_type": "stream",
       "stream": "stdout",
       "text": [
        "\n",
        "-------- Estoy en el archivo: experiment_theta_84.4_phi_265.4.dat---------"
       ]
      },
      {
       "output_type": "stream",
       "stream": "stdout",
       "text": [
        "\n",
        "-------- Estoy en el archivo: experiment_theta_84.4_phi_318.0.dat---------\n",
        "-------- Estoy en el archivo: experiment_theta_84.5_phi_152.2.dat---------"
       ]
      },
      {
       "output_type": "stream",
       "stream": "stdout",
       "text": [
        "\n",
        "-------- Estoy en el archivo: experiment_theta_84.7_phi_327.5.dat---------"
       ]
      },
      {
       "output_type": "stream",
       "stream": "stdout",
       "text": [
        "\n",
        "-------- Estoy en el archivo: experiment_theta_84.8_phi_153.2.dat---------"
       ]
      },
      {
       "output_type": "stream",
       "stream": "stdout",
       "text": [
        "\n",
        "-------- Estoy en el archivo: experiment_theta_84.8_phi_179.3.dat---------\n",
        "-------- Estoy en el archivo: experiment_theta_84.8_phi_282.3.dat---------"
       ]
      },
      {
       "output_type": "stream",
       "stream": "stdout",
       "text": [
        "\n",
        "-------- Estoy en el archivo: experiment_theta_84.9_phi_8.9.dat---------"
       ]
      },
      {
       "output_type": "stream",
       "stream": "stdout",
       "text": [
        "\n",
        "-------- Estoy en el archivo: experiment_theta_85.0_phi_134.7.dat---------"
       ]
      },
      {
       "output_type": "stream",
       "stream": "stdout",
       "text": [
        "\n",
        "-------- Estoy en el archivo: experiment_theta_85.2_phi_14.1.dat---------"
       ]
      },
      {
       "output_type": "stream",
       "stream": "stdout",
       "text": [
        "\n",
        "-------- Estoy en el archivo: experiment_theta_85.2_phi_62.4.dat---------\n",
        "-------- Estoy en el archivo: experiment_theta_85.2_phi_152.1.dat---------"
       ]
      },
      {
       "output_type": "stream",
       "stream": "stdout",
       "text": [
        "\n",
        "-------- Estoy en el archivo: experiment_theta_85.3_phi_155.7.dat---------"
       ]
      },
      {
       "output_type": "stream",
       "stream": "stdout",
       "text": [
        "\n",
        "-------- Estoy en el archivo: experiment_theta_85.3_phi_202.2.dat---------\n",
        "-------- Estoy en el archivo: experiment_theta_85.8_phi_214.8.dat---------"
       ]
      },
      {
       "output_type": "stream",
       "stream": "stdout",
       "text": [
        "\n",
        "-------- Estoy en el archivo: experiment_theta_85.8_phi_248.2.dat---------\n",
        "-------- Estoy en el archivo: experiment_theta_85.8_phi_251.4.dat---------\n",
        "-------- Estoy en el archivo: experiment_theta_86.0_phi_255.0.dat---------"
       ]
      },
      {
       "output_type": "stream",
       "stream": "stdout",
       "text": [
        "\n",
        "-------- Estoy en el archivo: experiment_theta_86.1_phi_111.0.dat---------"
       ]
      },
      {
       "output_type": "stream",
       "stream": "stdout",
       "text": [
        "\n",
        "-------- Estoy en el archivo: experiment_theta_86.1_phi_118.6.dat---------\n",
        "-------- Estoy en el archivo: experiment_theta_86.1_phi_218.5.dat---------"
       ]
      },
      {
       "output_type": "stream",
       "stream": "stdout",
       "text": [
        "\n",
        "-------- Estoy en el archivo: experiment_theta_86.2_phi_41.8.dat---------"
       ]
      },
      {
       "output_type": "stream",
       "stream": "stdout",
       "text": [
        "\n",
        "-------- Estoy en el archivo: experiment_theta_86.4_phi_21.0.dat---------"
       ]
      },
      {
       "output_type": "stream",
       "stream": "stdout",
       "text": [
        "\n",
        "-------- Estoy en el archivo: experiment_theta_86.6_phi_78.8.dat---------"
       ]
      },
      {
       "output_type": "stream",
       "stream": "stdout",
       "text": [
        "\n",
        "-------- Estoy en el archivo: experiment_theta_86.6_phi_211.4.dat---------"
       ]
      },
      {
       "output_type": "stream",
       "stream": "stdout",
       "text": [
        "\n",
        "-------- Estoy en el archivo: experiment_theta_86.9_phi_156.8.dat---------"
       ]
      },
      {
       "output_type": "stream",
       "stream": "stdout",
       "text": [
        "\n",
        "-------- Estoy en el archivo: experiment_theta_87.3_phi_52.8.dat---------"
       ]
      },
      {
       "output_type": "stream",
       "stream": "stdout",
       "text": [
        "\n",
        "-------- Estoy en el archivo: experiment_theta_87.3_phi_299.0.dat---------"
       ]
      },
      {
       "output_type": "stream",
       "stream": "stdout",
       "text": [
        "\n",
        "-------- Estoy en el archivo: experiment_theta_87.4_phi_232.3.dat---------"
       ]
      },
      {
       "output_type": "stream",
       "stream": "stdout",
       "text": [
        "\n",
        "-------- Estoy en el archivo: experiment_theta_87.5_phi_95.3.dat---------"
       ]
      },
      {
       "output_type": "stream",
       "stream": "stdout",
       "text": [
        "\n",
        "-------- Estoy en el archivo: experiment_theta_87.5_phi_111.8.dat---------\n",
        "-------- Estoy en el archivo: experiment_theta_87.7_phi_258.6.dat---------"
       ]
      },
      {
       "output_type": "stream",
       "stream": "stdout",
       "text": [
        "\n",
        "-------- Estoy en el archivo: experiment_theta_88.3_phi_344.1.dat---------"
       ]
      },
      {
       "output_type": "stream",
       "stream": "stdout",
       "text": [
        "\n",
        "-------- Estoy en el archivo: experiment_theta_88.4_phi_99.6.dat---------"
       ]
      },
      {
       "output_type": "stream",
       "stream": "stdout",
       "text": [
        "\n",
        "-------- Estoy en el archivo: experiment_theta_88.5_phi_291.5.dat---------"
       ]
      },
      {
       "output_type": "stream",
       "stream": "stdout",
       "text": [
        "\n",
        "-------- Estoy en el archivo: experiment_theta_88.8_phi_295.3.dat---------"
       ]
      },
      {
       "output_type": "stream",
       "stream": "stdout",
       "text": [
        "\n",
        "-------- Estoy en el archivo: experiment_theta_88.9_phi_343.7.dat---------"
       ]
      },
      {
       "output_type": "stream",
       "stream": "stdout",
       "text": [
        "\n",
        "-------- Estoy en el archivo: experiment_theta_89.0_phi_96.3.dat---------\n",
        "-------- Estoy en el archivo: experiment_theta_89.0_phi_282.5.dat---------"
       ]
      },
      {
       "output_type": "stream",
       "stream": "stdout",
       "text": [
        "\n",
        "-------- Estoy en el archivo: experiment_theta_89.2_phi_111.9.dat---------"
       ]
      },
      {
       "output_type": "stream",
       "stream": "stdout",
       "text": [
        "\n",
        "-------- Estoy en el archivo: experiment_theta_89.2_phi_171.3.dat---------\n",
        "-------- Estoy en el archivo: experiment_theta_89.4_phi_233.9.dat---------"
       ]
      },
      {
       "output_type": "stream",
       "stream": "stdout",
       "text": [
        "\n",
        "-------- Estoy en el archivo: experiment_theta_89.5_phi_101.4.dat---------"
       ]
      },
      {
       "output_type": "stream",
       "stream": "stdout",
       "text": [
        "\n",
        "-------- Estoy en el archivo: experiment_theta_89.6_phi_211.6.dat---------"
       ]
      },
      {
       "output_type": "stream",
       "stream": "stdout",
       "text": [
        "\n",
        "-------- Estoy en el archivo: experiment_theta_89.7_phi_21.6.dat---------"
       ]
      },
      {
       "output_type": "stream",
       "stream": "stdout",
       "text": [
        "\n",
        "-------- Estoy en el archivo: experiment_theta_89.8_phi_57.5.dat---------"
       ]
      },
      {
       "output_type": "stream",
       "stream": "stdout",
       "text": [
        "\n",
        "-------- Estoy en el archivo: experiment_theta_89.9_phi_204.1.dat---------"
       ]
      },
      {
       "output_type": "stream",
       "stream": "stdout",
       "text": [
        "\n",
        "-------- Estoy en el archivo: experiment_theta_89.9_phi_249.5.dat---------\n",
        "-------- Estoy en el archivo: experiment_theta_90.1_phi_324.1.dat---------"
       ]
      },
      {
       "output_type": "stream",
       "stream": "stdout",
       "text": [
        "\n",
        "-------- Estoy en el archivo: experiment_theta_90.2_phi_227.1.dat---------"
       ]
      },
      {
       "output_type": "stream",
       "stream": "stdout",
       "text": [
        "\n",
        "-------- Estoy en el archivo: experiment_theta_90.3_phi_161.2.dat---------"
       ]
      },
      {
       "output_type": "stream",
       "stream": "stdout",
       "text": [
        "\n",
        "-------- Estoy en el archivo: experiment_theta_90.4_phi_288.0.dat---------"
       ]
      },
      {
       "output_type": "stream",
       "stream": "stdout",
       "text": [
        "\n",
        "-------- Estoy en el archivo: experiment_theta_90.5_phi_208.7.dat---------"
       ]
      },
      {
       "output_type": "stream",
       "stream": "stdout",
       "text": [
        "\n",
        "-------- Estoy en el archivo: experiment_theta_90.5_phi_217.7.dat---------\n",
        "-------- Estoy en el archivo: experiment_theta_90.7_phi_261.1.dat---------"
       ]
      },
      {
       "output_type": "stream",
       "stream": "stdout",
       "text": [
        "\n",
        "-------- Estoy en el archivo: experiment_theta_90.8_phi_259.7.dat---------"
       ]
      },
      {
       "output_type": "stream",
       "stream": "stdout",
       "text": [
        "\n",
        "-------- Estoy en el archivo: experiment_theta_90.9_phi_289.7.dat---------"
       ]
      },
      {
       "output_type": "stream",
       "stream": "stdout",
       "text": [
        "\n",
        "-------- Estoy en el archivo: experiment_theta_91.2_phi_102.5.dat---------"
       ]
      },
      {
       "output_type": "stream",
       "stream": "stdout",
       "text": [
        "\n",
        "-------- Estoy en el archivo: experiment_theta_91.4_phi_118.2.dat---------"
       ]
      },
      {
       "output_type": "stream",
       "stream": "stdout",
       "text": [
        "\n",
        "-------- Estoy en el archivo: experiment_theta_91.5_phi_19.3.dat---------"
       ]
      },
      {
       "output_type": "stream",
       "stream": "stdout",
       "text": [
        "\n",
        "-------- Estoy en el archivo: experiment_theta_91.5_phi_150.9.dat---------\n",
        "-------- Estoy en el archivo: experiment_theta_91.6_phi_83.7.dat---------"
       ]
      },
      {
       "output_type": "stream",
       "stream": "stdout",
       "text": [
        "\n",
        "-------- Estoy en el archivo: experiment_theta_91.7_phi_62.3.dat---------"
       ]
      },
      {
       "output_type": "stream",
       "stream": "stdout",
       "text": [
        "\n",
        "-------- Estoy en el archivo: experiment_theta_91.9_phi_192.6.dat---------"
       ]
      },
      {
       "output_type": "stream",
       "stream": "stdout",
       "text": [
        "\n",
        "-------- Estoy en el archivo: experiment_theta_92.1_phi_326.1.dat---------"
       ]
      },
      {
       "output_type": "stream",
       "stream": "stdout",
       "text": [
        "\n",
        "-------- Estoy en el archivo: experiment_theta_92.2_phi_226.9.dat---------"
       ]
      },
      {
       "output_type": "stream",
       "stream": "stdout",
       "text": [
        "\n",
        "-------- Estoy en el archivo: experiment_theta_92.3_phi_121.5.dat---------"
       ]
      },
      {
       "output_type": "stream",
       "stream": "stdout",
       "text": [
        "\n",
        "-------- Estoy en el archivo: experiment_theta_92.3_phi_180.2.dat---------\n",
        "-------- Estoy en el archivo: experiment_theta_92.4_phi_321.6.dat---------"
       ]
      },
      {
       "output_type": "stream",
       "stream": "stdout",
       "text": [
        "\n",
        "-------- Estoy en el archivo: experiment_theta_92.4_phi_357.5.dat---------\n",
        "-------- Estoy en el archivo: experiment_theta_92.6_phi_118.4.dat---------"
       ]
      },
      {
       "output_type": "stream",
       "stream": "stdout",
       "text": [
        "\n",
        "-------- Estoy en el archivo: experiment_theta_92.7_phi_10.2.dat---------"
       ]
      },
      {
       "output_type": "stream",
       "stream": "stdout",
       "text": [
        "\n",
        "-------- Estoy en el archivo: experiment_theta_92.7_phi_139.0.dat---------"
       ]
      },
      {
       "output_type": "stream",
       "stream": "stdout",
       "text": [
        "\n",
        "-------- Estoy en el archivo: experiment_theta_92.7_phi_199.4.dat---------\n",
        "-------- Estoy en el archivo: experiment_theta_92.7_phi_357.9.dat---------"
       ]
      },
      {
       "output_type": "stream",
       "stream": "stdout",
       "text": [
        "\n",
        "-------- Estoy en el archivo: experiment_theta_92.8_phi_321.4.dat---------"
       ]
      },
      {
       "output_type": "stream",
       "stream": "stdout",
       "text": [
        "\n",
        "-------- Estoy en el archivo: experiment_theta_92.9_phi_5.1.dat---------\n",
        "-------- Estoy en el archivo: experiment_theta_93.1_phi_134.3.dat---------"
       ]
      },
      {
       "output_type": "stream",
       "stream": "stdout",
       "text": [
        "\n",
        "-------- Estoy en el archivo: experiment_theta_93.1_phi_192.8.dat---------\n",
        "-------- Estoy en el archivo: experiment_theta_93.1_phi_195.9.dat---------\n",
        "-------- Estoy en el archivo: experiment_theta_93.2_phi_143.8.dat---------"
       ]
      },
      {
       "output_type": "stream",
       "stream": "stdout",
       "text": [
        "\n",
        "-------- Estoy en el archivo: experiment_theta_93.6_phi_175.9.dat---------"
       ]
      },
      {
       "output_type": "stream",
       "stream": "stdout",
       "text": [
        "\n",
        "-------- Estoy en el archivo: experiment_theta_93.9_phi_67.3.dat---------"
       ]
      },
      {
       "output_type": "stream",
       "stream": "stdout",
       "text": [
        "\n",
        "-------- Estoy en el archivo: experiment_theta_93.9_phi_220.2.dat---------"
       ]
      },
      {
       "output_type": "stream",
       "stream": "stdout",
       "text": [
        "\n",
        "-------- Estoy en el archivo: experiment_theta_94.0_phi_154.3.dat---------"
       ]
      },
      {
       "output_type": "stream",
       "stream": "stdout",
       "text": [
        "\n",
        "-------- Estoy en el archivo: experiment_theta_94.0_phi_181.4.dat---------\n",
        "-------- Estoy en el archivo: experiment_theta_94.2_phi_248.3.dat---------"
       ]
      },
      {
       "output_type": "stream",
       "stream": "stdout",
       "text": [
        "\n",
        "-------- Estoy en el archivo: experiment_theta_94.3_phi_274.3.dat---------"
       ]
      },
      {
       "output_type": "stream",
       "stream": "stdout",
       "text": [
        "\n",
        "-------- Estoy en el archivo: experiment_theta_94.4_phi_71.4.dat---------"
       ]
      },
      {
       "output_type": "stream",
       "stream": "stdout",
       "text": [
        "\n",
        "-------- Estoy en el archivo: experiment_theta_94.8_phi_11.1.dat---------"
       ]
      },
      {
       "output_type": "stream",
       "stream": "stdout",
       "text": [
        "\n",
        "-------- Estoy en el archivo: experiment_theta_94.8_phi_246.7.dat---------"
       ]
      },
      {
       "output_type": "stream",
       "stream": "stdout",
       "text": [
        "\n",
        "-------- Estoy en el archivo: experiment_theta_94.8_phi_334.9.dat---------"
       ]
      },
      {
       "output_type": "stream",
       "stream": "stdout",
       "text": [
        "\n",
        "-------- Estoy en el archivo: experiment_theta_94.9_phi_223.9.dat---------"
       ]
      },
      {
       "output_type": "stream",
       "stream": "stdout",
       "text": [
        "\n",
        "-------- Estoy en el archivo: experiment_theta_95.0_phi_48.3.dat---------"
       ]
      },
      {
       "output_type": "stream",
       "stream": "stdout",
       "text": [
        "\n",
        "-------- Estoy en el archivo: experiment_theta_95.2_phi_60.9.dat---------"
       ]
      },
      {
       "output_type": "stream",
       "stream": "stdout",
       "text": [
        "\n",
        "-------- Estoy en el archivo: experiment_theta_95.3_phi_92.7.dat---------"
       ]
      },
      {
       "output_type": "stream",
       "stream": "stdout",
       "text": [
        "\n",
        "-------- Estoy en el archivo: experiment_theta_95.4_phi_198.7.dat---------"
       ]
      },
      {
       "output_type": "stream",
       "stream": "stdout",
       "text": [
        "\n",
        "-------- Estoy en el archivo: experiment_theta_95.7_phi_260.5.dat---------"
       ]
      },
      {
       "output_type": "stream",
       "stream": "stdout",
       "text": [
        "\n",
        "-------- Estoy en el archivo: experiment_theta_95.8_phi_63.2.dat---------"
       ]
      },
      {
       "output_type": "stream",
       "stream": "stdout",
       "text": [
        "\n",
        "-------- Estoy en el archivo: experiment_theta_95.8_phi_183.2.dat---------"
       ]
      },
      {
       "output_type": "stream",
       "stream": "stdout",
       "text": [
        "\n",
        "-------- Estoy en el archivo: experiment_theta_96.0_phi_46.2.dat---------"
       ]
      },
      {
       "output_type": "stream",
       "stream": "stdout",
       "text": [
        "\n",
        "-------- Estoy en el archivo: experiment_theta_96.0_phi_225.4.dat---------"
       ]
      },
      {
       "output_type": "stream",
       "stream": "stdout",
       "text": [
        "\n",
        "-------- Estoy en el archivo: experiment_theta_96.4_phi_63.5.dat---------"
       ]
      },
      {
       "output_type": "stream",
       "stream": "stdout",
       "text": [
        "\n",
        "-------- Estoy en el archivo: experiment_theta_96.4_phi_245.0.dat---------"
       ]
      },
      {
       "output_type": "stream",
       "stream": "stdout",
       "text": [
        "\n",
        "-------- Estoy en el archivo: experiment_theta_96.5_phi_64.2.dat---------"
       ]
      },
      {
       "output_type": "stream",
       "stream": "stdout",
       "text": [
        "\n",
        "-------- Estoy en el archivo: experiment_theta_96.7_phi_156.5.dat---------"
       ]
      },
      {
       "output_type": "stream",
       "stream": "stdout",
       "text": [
        "\n",
        "-------- Estoy en el archivo: experiment_theta_96.7_phi_236.0.dat---------\n",
        "-------- Estoy en el archivo: experiment_theta_96.9_phi_83.0.dat---------"
       ]
      },
      {
       "output_type": "stream",
       "stream": "stdout",
       "text": [
        "\n",
        "-------- Estoy en el archivo: experiment_theta_97.1_phi_244.6.dat---------"
       ]
      },
      {
       "output_type": "stream",
       "stream": "stdout",
       "text": [
        "\n",
        "-------- Estoy en el archivo: experiment_theta_97.3_phi_141.5.dat---------"
       ]
      },
      {
       "output_type": "stream",
       "stream": "stdout",
       "text": [
        "\n",
        "-------- Estoy en el archivo: experiment_theta_97.3_phi_277.5.dat---------"
       ]
      },
      {
       "output_type": "stream",
       "stream": "stdout",
       "text": [
        "\n",
        "-------- Estoy en el archivo: experiment_theta_97.5_phi_87.1.dat---------"
       ]
      },
      {
       "output_type": "stream",
       "stream": "stdout",
       "text": [
        "\n",
        "-------- Estoy en el archivo: experiment_theta_97.7_phi_314.0.dat---------"
       ]
      },
      {
       "output_type": "stream",
       "stream": "stdout",
       "text": [
        "\n",
        "-------- Estoy en el archivo: experiment_theta_98.0_phi_354.0.dat---------"
       ]
      },
      {
       "output_type": "stream",
       "stream": "stdout",
       "text": [
        "\n",
        "-------- Estoy en el archivo: experiment_theta_98.1_phi_84.0.dat---------\n",
        "-------- Estoy en el archivo: experiment_theta_98.2_phi_207.6.dat---------"
       ]
      },
      {
       "output_type": "stream",
       "stream": "stdout",
       "text": [
        "\n",
        "-------- Estoy en el archivo: experiment_theta_98.3_phi_32.0.dat---------"
       ]
      },
      {
       "output_type": "stream",
       "stream": "stdout",
       "text": [
        "\n",
        "-------- Estoy en el archivo: experiment_theta_98.3_phi_120.6.dat---------\n",
        "-------- Estoy en el archivo: experiment_theta_98.3_phi_217.6.dat---------"
       ]
      },
      {
       "output_type": "stream",
       "stream": "stdout",
       "text": [
        "\n",
        "-------- Estoy en el archivo: experiment_theta_98.4_phi_243.2.dat---------"
       ]
      },
      {
       "output_type": "stream",
       "stream": "stdout",
       "text": [
        "\n",
        "-------- Estoy en el archivo: experiment_theta_98.5_phi_77.7.dat---------"
       ]
      },
      {
       "output_type": "stream",
       "stream": "stdout",
       "text": [
        "\n",
        "-------- Estoy en el archivo: experiment_theta_99.0_phi_287.4.dat---------"
       ]
      },
      {
       "output_type": "stream",
       "stream": "stdout",
       "text": [
        "\n",
        "-------- Estoy en el archivo: experiment_theta_99.2_phi_141.8.dat---------"
       ]
      },
      {
       "output_type": "stream",
       "stream": "stdout",
       "text": [
        "\n",
        "-------- Estoy en el archivo: experiment_theta_99.2_phi_159.9.dat---------\n",
        "-------- Estoy en el archivo: experiment_theta_99.2_phi_253.8.dat---------\n",
        "-------- Estoy en el archivo: experiment_theta_99.8_phi_22.2.dat---------"
       ]
      },
      {
       "output_type": "stream",
       "stream": "stdout",
       "text": [
        "\n",
        "-------- Estoy en el archivo: experiment_theta_99.9_phi_51.5.dat---------"
       ]
      },
      {
       "output_type": "stream",
       "stream": "stdout",
       "text": [
        "\n",
        "-------- Estoy en el archivo: experiment_theta_100.1_phi_349.9.dat---------"
       ]
      },
      {
       "output_type": "stream",
       "stream": "stdout",
       "text": [
        "\n",
        "-------- Estoy en el archivo: experiment_theta_100.2_phi_224.1.dat---------"
       ]
      },
      {
       "output_type": "stream",
       "stream": "stdout",
       "text": [
        "\n",
        "-------- Estoy en el archivo: experiment_theta_100.5_phi_330.2.dat---------"
       ]
      },
      {
       "output_type": "stream",
       "stream": "stdout",
       "text": [
        "\n",
        "-------- Estoy en el archivo: experiment_theta_100.6_phi_87.7.dat---------\n",
        "-------- Estoy en el archivo: experiment_theta_100.7_phi_175.3.dat---------"
       ]
      },
      {
       "output_type": "stream",
       "stream": "stdout",
       "text": [
        "\n",
        "-------- Estoy en el archivo: experiment_theta_100.8_phi_83.8.dat---------"
       ]
      },
      {
       "output_type": "stream",
       "stream": "stdout",
       "text": [
        "\n",
        "-------- Estoy en el archivo: experiment_theta_100.8_phi_87.4.dat---------\n",
        "-------- Estoy en el archivo: experiment_theta_100.8_phi_124.3.dat---------\n",
        "-------- Estoy en el archivo: experiment_theta_100.9_phi_99.2.dat---------"
       ]
      },
      {
       "output_type": "stream",
       "stream": "stdout",
       "text": [
        "\n",
        "-------- Estoy en el archivo: experiment_theta_101.0_phi_141.7.dat---------"
       ]
      },
      {
       "output_type": "stream",
       "stream": "stdout",
       "text": [
        "\n",
        "-------- Estoy en el archivo: experiment_theta_101.0_phi_267.8.dat---------"
       ]
      },
      {
       "output_type": "stream",
       "stream": "stdout",
       "text": [
        "\n",
        "-------- Estoy en el archivo: experiment_theta_101.0_phi_296.3.dat---------\n",
        "-------- Estoy en el archivo: experiment_theta_101.3_phi_34.2.dat---------"
       ]
      },
      {
       "output_type": "stream",
       "stream": "stdout",
       "text": [
        "\n",
        "-------- Estoy en el archivo: experiment_theta_101.3_phi_134.0.dat---------\n",
        "-------- Estoy en el archivo: experiment_theta_101.3_phi_272.9.dat---------"
       ]
      },
      {
       "output_type": "stream",
       "stream": "stdout",
       "text": [
        "\n",
        "-------- Estoy en el archivo: experiment_theta_101.5_phi_240.8.dat---------"
       ]
      },
      {
       "output_type": "stream",
       "stream": "stdout",
       "text": [
        "\n",
        "-------- Estoy en el archivo: experiment_theta_101.7_phi_121.1.dat---------"
       ]
      },
      {
       "output_type": "stream",
       "stream": "stdout",
       "text": [
        "\n",
        "-------- Estoy en el archivo: experiment_theta_101.7_phi_282.4.dat---------"
       ]
      },
      {
       "output_type": "stream",
       "stream": "stdout",
       "text": [
        "\n",
        "-------- Estoy en el archivo: experiment_theta_101.8_phi_205.8.dat---------"
       ]
      },
      {
       "output_type": "stream",
       "stream": "stdout",
       "text": [
        "\n",
        "-------- Estoy en el archivo: experiment_theta_101.8_phi_344.5.dat---------"
       ]
      },
      {
       "output_type": "stream",
       "stream": "stdout",
       "text": [
        "\n",
        "-------- Estoy en el archivo: experiment_theta_102.2_phi_290.7.dat---------"
       ]
      },
      {
       "output_type": "stream",
       "stream": "stdout",
       "text": [
        "\n",
        "-------- Estoy en el archivo: experiment_theta_102.3_phi_41.3.dat---------\n",
        "-------- Estoy en el archivo: experiment_theta_102.5_phi_204.9.dat---------"
       ]
      },
      {
       "output_type": "stream",
       "stream": "stdout",
       "text": [
        "\n",
        "-------- Estoy en el archivo: experiment_theta_102.7_phi_257.2.dat---------"
       ]
      },
      {
       "output_type": "stream",
       "stream": "stdout",
       "text": [
        "\n",
        "-------- Estoy en el archivo: experiment_theta_102.8_phi_238.7.dat---------"
       ]
      },
      {
       "output_type": "stream",
       "stream": "stdout",
       "text": [
        "\n",
        "-------- Estoy en el archivo: experiment_theta_102.9_phi_115.2.dat---------"
       ]
      },
      {
       "output_type": "stream",
       "stream": "stdout",
       "text": [
        "\n",
        "-------- Estoy en el archivo: experiment_theta_102.9_phi_286.0.dat---------\n",
        "-------- Estoy en el archivo: experiment_theta_103.2_phi_67.7.dat---------"
       ]
      },
      {
       "output_type": "stream",
       "stream": "stdout",
       "text": [
        "\n",
        "-------- Estoy en el archivo: experiment_theta_103.2_phi_291.0.dat---------"
       ]
      },
      {
       "output_type": "stream",
       "stream": "stdout",
       "text": [
        "\n",
        "-------- Estoy en el archivo: experiment_theta_103.4_phi_345.9.dat---------"
       ]
      },
      {
       "output_type": "stream",
       "stream": "stdout",
       "text": [
        "\n",
        "-------- Estoy en el archivo: experiment_theta_103.7_phi_116.6.dat---------"
       ]
      },
      {
       "output_type": "stream",
       "stream": "stdout",
       "text": [
        "\n",
        "-------- Estoy en el archivo: experiment_theta_103.8_phi_336.8.dat---------"
       ]
      },
      {
       "output_type": "stream",
       "stream": "stdout",
       "text": [
        "\n",
        "-------- Estoy en el archivo: experiment_theta_103.9_phi_111.2.dat---------"
       ]
      },
      {
       "output_type": "stream",
       "stream": "stdout",
       "text": [
        "\n",
        "-------- Estoy en el archivo: experiment_theta_103.9_phi_219.8.dat---------\n",
        "-------- Estoy en el archivo: experiment_theta_104.0_phi_86.5.dat---------"
       ]
      },
      {
       "output_type": "stream",
       "stream": "stdout",
       "text": [
        "\n",
        "-------- Estoy en el archivo: experiment_theta_104.0_phi_245.9.dat---------"
       ]
      },
      {
       "output_type": "stream",
       "stream": "stdout",
       "text": [
        "\n",
        "-------- Estoy en el archivo: experiment_theta_104.1_phi_54.2.dat---------"
       ]
      },
      {
       "output_type": "stream",
       "stream": "stdout",
       "text": [
        "\n",
        "-------- Estoy en el archivo: experiment_theta_104.2_phi_301.1.dat---------"
       ]
      },
      {
       "output_type": "stream",
       "stream": "stdout",
       "text": [
        "\n",
        "-------- Estoy en el archivo: experiment_theta_104.3_phi_146.8.dat---------"
       ]
      },
      {
       "output_type": "stream",
       "stream": "stdout",
       "text": [
        "\n",
        "-------- Estoy en el archivo: experiment_theta_104.6_phi_4.8.dat---------"
       ]
      },
      {
       "output_type": "stream",
       "stream": "stdout",
       "text": [
        "\n",
        "-------- Estoy en el archivo: experiment_theta_104.6_phi_30.0.dat---------\n",
        "-------- Estoy en el archivo: experiment_theta_104.6_phi_196.0.dat---------"
       ]
      },
      {
       "output_type": "stream",
       "stream": "stdout",
       "text": [
        "\n",
        "-------- Estoy en el archivo: experiment_theta_104.6_phi_232.3.dat---------\n",
        "-------- Estoy en el archivo: experiment_theta_104.9_phi_95.2.dat---------"
       ]
      },
      {
       "output_type": "stream",
       "stream": "stdout",
       "text": [
        "\n",
        "-------- Estoy en el archivo: experiment_theta_104.9_phi_216.0.dat---------\n",
        "-------- Estoy en el archivo: experiment_theta_105.0_phi_359.4.dat---------"
       ]
      },
      {
       "output_type": "stream",
       "stream": "stdout",
       "text": [
        "\n",
        "-------- Estoy en el archivo: experiment_theta_105.2_phi_283.2.dat---------"
       ]
      },
      {
       "output_type": "stream",
       "stream": "stdout",
       "text": [
        "\n",
        "-------- Estoy en el archivo: experiment_theta_105.2_phi_285.1.dat---------\n",
        "-------- Estoy en el archivo: experiment_theta_105.4_phi_3.3.dat---------"
       ]
      },
      {
       "output_type": "stream",
       "stream": "stdout",
       "text": [
        "\n",
        "-------- Estoy en el archivo: experiment_theta_105.6_phi_189.7.dat---------"
       ]
      },
      {
       "output_type": "stream",
       "stream": "stdout",
       "text": [
        "\n",
        "-------- Estoy en el archivo: experiment_theta_105.7_phi_14.3.dat---------\n",
        "-------- Estoy en el archivo: experiment_theta_105.7_phi_206.8.dat---------"
       ]
      },
      {
       "output_type": "stream",
       "stream": "stdout",
       "text": [
        "\n",
        "-------- Estoy en el archivo: experiment_theta_105.8_phi_99.1.dat---------"
       ]
      },
      {
       "output_type": "stream",
       "stream": "stdout",
       "text": [
        "\n",
        "-------- Estoy en el archivo: experiment_theta_105.8_phi_179.2.dat---------\n",
        "-------- Estoy en el archivo: experiment_theta_106.0_phi_103.4.dat---------"
       ]
      },
      {
       "output_type": "stream",
       "stream": "stdout",
       "text": [
        "\n",
        "-------- Estoy en el archivo: experiment_theta_106.0_phi_273.3.dat---------"
       ]
      },
      {
       "output_type": "stream",
       "stream": "stdout",
       "text": [
        "\n",
        "-------- Estoy en el archivo: experiment_theta_106.2_phi_332.7.dat---------"
       ]
      },
      {
       "output_type": "stream",
       "stream": "stdout",
       "text": [
        "\n",
        "-------- Estoy en el archivo: experiment_theta_106.3_phi_248.2.dat---------"
       ]
      },
      {
       "output_type": "stream",
       "stream": "stdout",
       "text": [
        "\n",
        "-------- Estoy en el archivo: experiment_theta_106.4_phi_209.9.dat---------"
       ]
      },
      {
       "output_type": "stream",
       "stream": "stdout",
       "text": [
        "\n",
        "-------- Estoy en el archivo: experiment_theta_106.6_phi_146.4.dat---------"
       ]
      },
      {
       "output_type": "stream",
       "stream": "stdout",
       "text": [
        "\n",
        "-------- Estoy en el archivo: experiment_theta_106.6_phi_272.5.dat---------"
       ]
      },
      {
       "output_type": "stream",
       "stream": "stdout",
       "text": [
        "\n",
        "-------- Estoy en el archivo: experiment_theta_106.7_phi_27.9.dat---------"
       ]
      },
      {
       "output_type": "stream",
       "stream": "stdout",
       "text": [
        "\n",
        "-------- Estoy en el archivo: experiment_theta_106.8_phi_71.6.dat---------"
       ]
      },
      {
       "output_type": "stream",
       "stream": "stdout",
       "text": [
        "\n",
        "-------- Estoy en el archivo: experiment_theta_107.0_phi_220.9.dat---------"
       ]
      },
      {
       "output_type": "stream",
       "stream": "stdout",
       "text": [
        "\n",
        "-------- Estoy en el archivo: experiment_theta_107.2_phi_283.8.dat---------"
       ]
      },
      {
       "output_type": "stream",
       "stream": "stdout",
       "text": [
        "\n",
        "-------- Estoy en el archivo: experiment_theta_107.3_phi_7.4.dat---------\n",
        "-------- Estoy en el archivo: experiment_theta_107.9_phi_329.4.dat---------"
       ]
      },
      {
       "output_type": "stream",
       "stream": "stdout",
       "text": [
        "\n",
        "-------- Estoy en el archivo: experiment_theta_108.0_phi_200.5.dat---------"
       ]
      },
      {
       "output_type": "stream",
       "stream": "stdout",
       "text": [
        "\n",
        "-------- Estoy en el archivo: experiment_theta_108.1_phi_1.6.dat---------"
       ]
      },
      {
       "output_type": "stream",
       "stream": "stdout",
       "text": [
        "\n",
        "-------- Estoy en el archivo: experiment_theta_108.1_phi_63.0.dat---------"
       ]
      },
      {
       "output_type": "stream",
       "stream": "stdout",
       "text": [
        "\n",
        "-------- Estoy en el archivo: experiment_theta_108.1_phi_158.7.dat---------"
       ]
      },
      {
       "output_type": "stream",
       "stream": "stdout",
       "text": [
        "\n",
        "-------- Estoy en el archivo: experiment_theta_108.1_phi_179.8.dat---------\n",
        "-------- Estoy en el archivo: experiment_theta_108.1_phi_204.0.dat---------\n",
        "-------- Estoy en el archivo: experiment_theta_108.3_phi_92.2.dat---------"
       ]
      },
      {
       "output_type": "stream",
       "stream": "stdout",
       "text": [
        "\n",
        "-------- Estoy en el archivo: experiment_theta_108.6_phi_125.9.dat---------"
       ]
      },
      {
       "output_type": "stream",
       "stream": "stdout",
       "text": [
        "\n",
        "-------- Estoy en el archivo: experiment_theta_108.6_phi_352.8.dat---------"
       ]
      },
      {
       "output_type": "stream",
       "stream": "stdout",
       "text": [
        "\n",
        "-------- Estoy en el archivo: experiment_theta_108.8_phi_355.3.dat---------"
       ]
      },
      {
       "output_type": "stream",
       "stream": "stdout",
       "text": [
        "\n",
        "-------- Estoy en el archivo: experiment_theta_108.9_phi_169.0.dat---------"
       ]
      },
      {
       "output_type": "stream",
       "stream": "stdout",
       "text": [
        "\n",
        "-------- Estoy en el archivo: experiment_theta_108.9_phi_294.6.dat---------\n",
        "-------- Estoy en el archivo: experiment_theta_109.0_phi_302.7.dat---------"
       ]
      },
      {
       "output_type": "stream",
       "stream": "stdout",
       "text": [
        "\n",
        "-------- Estoy en el archivo: experiment_theta_109.1_phi_356.1.dat---------"
       ]
      },
      {
       "output_type": "stream",
       "stream": "stdout",
       "text": [
        "\n",
        "-------- Estoy en el archivo: experiment_theta_109.2_phi_96.3.dat---------\n",
        "-------- Estoy en el archivo: experiment_theta_109.3_phi_273.2.dat---------"
       ]
      },
      {
       "output_type": "stream",
       "stream": "stdout",
       "text": [
        "\n",
        "-------- Estoy en el archivo: experiment_theta_109.3_phi_331.9.dat---------\n",
        "-------- Estoy en el archivo: experiment_theta_109.4_phi_222.2.dat---------"
       ]
      },
      {
       "output_type": "stream",
       "stream": "stdout",
       "text": [
        "\n",
        "-------- Estoy en el archivo: experiment_theta_109.7_phi_151.0.dat---------"
       ]
      },
      {
       "output_type": "stream",
       "stream": "stdout",
       "text": [
        "\n",
        "-------- Estoy en el archivo: experiment_theta_110.0_phi_33.8.dat---------"
       ]
      },
      {
       "output_type": "stream",
       "stream": "stdout",
       "text": [
        "\n",
        "-------- Estoy en el archivo: experiment_theta_110.1_phi_343.2.dat---------"
       ]
      },
      {
       "output_type": "stream",
       "stream": "stdout",
       "text": [
        "\n",
        "-------- Estoy en el archivo: experiment_theta_110.3_phi_191.5.dat---------"
       ]
      },
      {
       "output_type": "stream",
       "stream": "stdout",
       "text": [
        "\n",
        "-------- Estoy en el archivo: experiment_theta_110.6_phi_336.1.dat---------"
       ]
      },
      {
       "output_type": "stream",
       "stream": "stdout",
       "text": [
        "\n",
        "-------- Estoy en el archivo: experiment_theta_110.9_phi_24.5.dat---------"
       ]
      },
      {
       "output_type": "stream",
       "stream": "stdout",
       "text": [
        "\n",
        "-------- Estoy en el archivo: experiment_theta_111.0_phi_89.5.dat---------"
       ]
      },
      {
       "output_type": "stream",
       "stream": "stdout",
       "text": [
        "\n",
        "-------- Estoy en el archivo: experiment_theta_111.0_phi_122.0.dat---------\n",
        "-------- Estoy en el archivo: experiment_theta_111.2_phi_195.2.dat---------"
       ]
      },
      {
       "output_type": "stream",
       "stream": "stdout",
       "text": [
        "\n",
        "-------- Estoy en el archivo: experiment_theta_111.4_phi_328.7.dat---------"
       ]
      },
      {
       "output_type": "stream",
       "stream": "stdout",
       "text": [
        "\n",
        "-------- Estoy en el archivo: experiment_theta_111.5_phi_119.1.dat---------\n",
        "-------- Estoy en el archivo: experiment_theta_111.7_phi_175.7.dat---------"
       ]
      },
      {
       "output_type": "stream",
       "stream": "stdout",
       "text": [
        "\n",
        "-------- Estoy en el archivo: experiment_theta_111.7_phi_257.8.dat---------\n",
        "-------- Estoy en el archivo: experiment_theta_111.8_phi_144.6.dat---------"
       ]
      },
      {
       "output_type": "stream",
       "stream": "stdout",
       "text": [
        "\n",
        "-------- Estoy en el archivo: experiment_theta_111.9_phi_135.2.dat---------"
       ]
      },
      {
       "output_type": "stream",
       "stream": "stdout",
       "text": [
        "\n",
        "-------- Estoy en el archivo: experiment_theta_111.9_phi_188.7.dat---------\n",
        "-------- Estoy en el archivo: experiment_theta_112.0_phi_125.4.dat---------"
       ]
      },
      {
       "output_type": "stream",
       "stream": "stdout",
       "text": [
        "\n",
        "-------- Estoy en el archivo: experiment_theta_112.0_phi_213.5.dat---------\n",
        "-------- Estoy en el archivo: experiment_theta_112.3_phi_111.5.dat---------"
       ]
      },
      {
       "output_type": "stream",
       "stream": "stdout",
       "text": [
        "\n",
        "-------- Estoy en el archivo: experiment_theta_112.3_phi_124.7.dat---------\n",
        "-------- Estoy en el archivo: experiment_theta_112.6_phi_174.0.dat---------"
       ]
      },
      {
       "output_type": "stream",
       "stream": "stdout",
       "text": [
        "\n",
        "-------- Estoy en el archivo: experiment_theta_112.7_phi_52.2.dat---------"
       ]
      },
      {
       "output_type": "stream",
       "stream": "stdout",
       "text": [
        "\n",
        "-------- Estoy en el archivo: experiment_theta_112.7_phi_238.2.dat---------"
       ]
      },
      {
       "output_type": "stream",
       "stream": "stdout",
       "text": [
        "\n",
        "-------- Estoy en el archivo: experiment_theta_112.7_phi_317.5.dat---------\n",
        "-------- Estoy en el archivo: experiment_theta_112.8_phi_162.7.dat---------"
       ]
      },
      {
       "output_type": "stream",
       "stream": "stdout",
       "text": [
        "\n",
        "-------- Estoy en el archivo: experiment_theta_112.8_phi_235.3.dat---------\n",
        "-------- Estoy en el archivo: experiment_theta_112.9_phi_140.4.dat---------"
       ]
      },
      {
       "output_type": "stream",
       "stream": "stdout",
       "text": [
        "\n",
        "-------- Estoy en el archivo: experiment_theta_113.0_phi_2.8.dat---------"
       ]
      },
      {
       "output_type": "stream",
       "stream": "stdout",
       "text": [
        "\n",
        "-------- Estoy en el archivo: experiment_theta_113.2_phi_89.6.dat---------"
       ]
      },
      {
       "output_type": "stream",
       "stream": "stdout",
       "text": [
        "\n",
        "-------- Estoy en el archivo: experiment_theta_113.2_phi_305.2.dat---------\n",
        "-------- Estoy en el archivo: experiment_theta_113.3_phi_63.9.dat---------"
       ]
      },
      {
       "output_type": "stream",
       "stream": "stdout",
       "text": [
        "\n",
        "-------- Estoy en el archivo: experiment_theta_113.3_phi_76.1.dat---------\n",
        "-------- Estoy en el archivo: experiment_theta_113.6_phi_260.6.dat---------"
       ]
      },
      {
       "output_type": "stream",
       "stream": "stdout",
       "text": [
        "\n",
        "-------- Estoy en el archivo: experiment_theta_113.7_phi_20.0.dat---------\n",
        "-------- Estoy en el archivo: experiment_theta_113.9_phi_4.3.dat---------"
       ]
      },
      {
       "output_type": "stream",
       "stream": "stdout",
       "text": [
        "\n",
        "-------- Estoy en el archivo: experiment_theta_113.9_phi_19.8.dat---------\n",
        "-------- Estoy en el archivo: experiment_theta_113.9_phi_27.2.dat---------\n",
        "-------- Estoy en el archivo: experiment_theta_113.9_phi_58.1.dat---------\n",
        "-------- Estoy en el archivo: experiment_theta_113.9_phi_322.1.dat---------"
       ]
      },
      {
       "output_type": "stream",
       "stream": "stdout",
       "text": [
        "\n",
        "-------- Estoy en el archivo: experiment_theta_114.0_phi_198.0.dat---------"
       ]
      },
      {
       "output_type": "stream",
       "stream": "stdout",
       "text": [
        "\n",
        "-------- Estoy en el archivo: experiment_theta_114.0_phi_204.9.dat---------\n",
        "-------- Estoy en el archivo: experiment_theta_114.2_phi_177.3.dat---------"
       ]
      },
      {
       "output_type": "stream",
       "stream": "stdout",
       "text": [
        "\n",
        "-------- Estoy en el archivo: experiment_theta_114.3_phi_69.6.dat---------"
       ]
      },
      {
       "output_type": "stream",
       "stream": "stdout",
       "text": [
        "\n",
        "-------- Estoy en el archivo: experiment_theta_114.3_phi_248.4.dat---------"
       ]
      },
      {
       "output_type": "stream",
       "stream": "stdout",
       "text": [
        "\n",
        "-------- Estoy en el archivo: experiment_theta_114.3_phi_280.1.dat---------\n",
        "-------- Estoy en el archivo: experiment_theta_114.4_phi_104.5.dat---------"
       ]
      },
      {
       "output_type": "stream",
       "stream": "stdout",
       "text": [
        "\n",
        "-------- Estoy en el archivo: experiment_theta_114.4_phi_307.0.dat---------"
       ]
      },
      {
       "output_type": "stream",
       "stream": "stdout",
       "text": [
        "\n",
        "-------- Estoy en el archivo: experiment_theta_114.6_phi_278.2.dat---------"
       ]
      },
      {
       "output_type": "stream",
       "stream": "stdout",
       "text": [
        "\n",
        "-------- Estoy en el archivo: experiment_theta_114.7_phi_67.0.dat---------"
       ]
      },
      {
       "output_type": "stream",
       "stream": "stdout",
       "text": [
        "\n",
        "-------- Estoy en el archivo: experiment_theta_114.7_phi_245.7.dat---------"
       ]
      },
      {
       "output_type": "stream",
       "stream": "stdout",
       "text": [
        "\n",
        "-------- Estoy en el archivo: experiment_theta_114.8_phi_31.4.dat---------"
       ]
      },
      {
       "output_type": "stream",
       "stream": "stdout",
       "text": [
        "\n",
        "-------- Estoy en el archivo: experiment_theta_115.2_phi_302.1.dat---------"
       ]
      },
      {
       "output_type": "stream",
       "stream": "stdout",
       "text": [
        "\n",
        "-------- Estoy en el archivo: experiment_theta_115.3_phi_264.7.dat---------"
       ]
      },
      {
       "output_type": "stream",
       "stream": "stdout",
       "text": [
        "\n",
        "-------- Estoy en el archivo: experiment_theta_115.4_phi_199.7.dat---------"
       ]
      },
      {
       "output_type": "stream",
       "stream": "stdout",
       "text": [
        "\n",
        "-------- Estoy en el archivo: experiment_theta_116.0_phi_42.2.dat---------"
       ]
      },
      {
       "output_type": "stream",
       "stream": "stdout",
       "text": [
        "\n",
        "-------- Estoy en el archivo: experiment_theta_116.4_phi_82.0.dat---------"
       ]
      },
      {
       "output_type": "stream",
       "stream": "stdout",
       "text": [
        "\n",
        "-------- Estoy en el archivo: experiment_theta_116.7_phi_239.7.dat---------"
       ]
      },
      {
       "output_type": "stream",
       "stream": "stdout",
       "text": [
        "\n",
        "-------- Estoy en el archivo: experiment_theta_116.8_phi_153.4.dat---------"
       ]
      },
      {
       "output_type": "stream",
       "stream": "stdout",
       "text": [
        "\n",
        "-------- Estoy en el archivo: experiment_theta_116.8_phi_350.3.dat---------"
       ]
      },
      {
       "output_type": "stream",
       "stream": "stdout",
       "text": [
        "\n",
        "-------- Estoy en el archivo: experiment_theta_116.9_phi_314.2.dat---------"
       ]
      },
      {
       "output_type": "stream",
       "stream": "stdout",
       "text": [
        "\n",
        "-------- Estoy en el archivo: experiment_theta_117.1_phi_124.4.dat---------"
       ]
      },
      {
       "output_type": "stream",
       "stream": "stdout",
       "text": [
        "\n",
        "-------- Estoy en el archivo: experiment_theta_117.1_phi_238.4.dat---------\n",
        "-------- Estoy en el archivo: experiment_theta_117.3_phi_328.5.dat---------"
       ]
      },
      {
       "output_type": "stream",
       "stream": "stdout",
       "text": [
        "\n",
        "-------- Estoy en el archivo: experiment_theta_118.0_phi_160.6.dat---------"
       ]
      },
      {
       "output_type": "stream",
       "stream": "stdout",
       "text": [
        "\n",
        "-------- Estoy en el archivo: experiment_theta_118.0_phi_335.9.dat---------"
       ]
      },
      {
       "output_type": "stream",
       "stream": "stdout",
       "text": [
        "\n",
        "-------- Estoy en el archivo: experiment_theta_118.2_phi_105.6.dat---------"
       ]
      },
      {
       "output_type": "stream",
       "stream": "stdout",
       "text": [
        "\n",
        "-------- Estoy en el archivo: experiment_theta_118.7_phi_107.1.dat---------"
       ]
      },
      {
       "output_type": "stream",
       "stream": "stdout",
       "text": [
        "\n",
        "-------- Estoy en el archivo: experiment_theta_118.8_phi_274.1.dat---------"
       ]
      },
      {
       "output_type": "stream",
       "stream": "stdout",
       "text": [
        "\n",
        "-------- Estoy en el archivo: experiment_theta_118.9_phi_166.3.dat---------"
       ]
      },
      {
       "output_type": "stream",
       "stream": "stdout",
       "text": [
        "\n",
        "-------- Estoy en el archivo: experiment_theta_119.3_phi_136.4.dat---------"
       ]
      },
      {
       "output_type": "stream",
       "stream": "stdout",
       "text": [
        "\n",
        "-------- Estoy en el archivo: experiment_theta_119.4_phi_16.6.dat---------"
       ]
      },
      {
       "output_type": "stream",
       "stream": "stdout",
       "text": [
        "\n",
        "-------- Estoy en el archivo: experiment_theta_119.5_phi_82.4.dat---------"
       ]
      },
      {
       "output_type": "stream",
       "stream": "stdout",
       "text": [
        "\n",
        "-------- Estoy en el archivo: experiment_theta_119.5_phi_133.7.dat---------\n",
        "-------- Estoy en el archivo: experiment_theta_119.5_phi_347.7.dat---------"
       ]
      },
      {
       "output_type": "stream",
       "stream": "stdout",
       "text": [
        "\n",
        "-------- Estoy en el archivo: experiment_theta_119.8_phi_146.7.dat---------"
       ]
      },
      {
       "output_type": "stream",
       "stream": "stdout",
       "text": [
        "\n",
        "-------- Estoy en el archivo: experiment_theta_119.8_phi_156.1.dat---------\n",
        "-------- Estoy en el archivo: experiment_theta_119.8_phi_234.4.dat---------\n",
        "-------- Estoy en el archivo: experiment_theta_119.9_phi_127.7.dat---------"
       ]
      },
      {
       "output_type": "stream",
       "stream": "stdout",
       "text": [
        "\n",
        "-------- Estoy en el archivo: experiment_theta_119.9_phi_152.4.dat---------\n",
        "-------- Estoy en el archivo: experiment_theta_120.0_phi_66.0.dat---------"
       ]
      },
      {
       "output_type": "stream",
       "stream": "stdout",
       "text": [
        "\n",
        "-------- Estoy en el archivo: experiment_theta_120.2_phi_9.7.dat---------"
       ]
      },
      {
       "output_type": "stream",
       "stream": "stdout",
       "text": [
        "\n",
        "-------- Estoy en el archivo: experiment_theta_120.2_phi_352.4.dat---------"
       ]
      },
      {
       "output_type": "stream",
       "stream": "stdout",
       "text": [
        "\n",
        "-------- Estoy en el archivo: experiment_theta_120.7_phi_19.1.dat---------"
       ]
      },
      {
       "output_type": "stream",
       "stream": "stdout",
       "text": [
        "\n",
        "-------- Estoy en el archivo: experiment_theta_120.7_phi_320.5.dat---------"
       ]
      },
      {
       "output_type": "stream",
       "stream": "stdout",
       "text": [
        "\n",
        "-------- Estoy en el archivo: experiment_theta_120.8_phi_93.5.dat---------\n",
        "-------- Estoy en el archivo: experiment_theta_121.0_phi_116.3.dat---------"
       ]
      },
      {
       "output_type": "stream",
       "stream": "stdout",
       "text": [
        "\n",
        "-------- Estoy en el archivo: experiment_theta_121.0_phi_239.6.dat---------\n",
        "-------- Estoy en el archivo: experiment_theta_121.1_phi_329.1.dat---------"
       ]
      },
      {
       "output_type": "stream",
       "stream": "stdout",
       "text": [
        "\n",
        "-------- Estoy en el archivo: experiment_theta_121.2_phi_118.3.dat---------\n",
        "-------- Estoy en el archivo: experiment_theta_121.3_phi_102.4.dat---------"
       ]
      },
      {
       "output_type": "stream",
       "stream": "stdout",
       "text": [
        "\n",
        "-------- Estoy en el archivo: experiment_theta_121.4_phi_227.3.dat---------"
       ]
      },
      {
       "output_type": "stream",
       "stream": "stdout",
       "text": [
        "\n",
        "-------- Estoy en el archivo: experiment_theta_121.6_phi_220.4.dat---------"
       ]
      },
      {
       "output_type": "stream",
       "stream": "stdout",
       "text": [
        "\n",
        "-------- Estoy en el archivo: experiment_theta_121.7_phi_45.1.dat---------\n",
        "-------- Estoy en el archivo: experiment_theta_121.7_phi_196.7.dat---------"
       ]
      },
      {
       "output_type": "stream",
       "stream": "stdout",
       "text": [
        "\n",
        "-------- Estoy en el archivo: experiment_theta_121.8_phi_61.0.dat---------\n",
        "-------- Estoy en el archivo: experiment_theta_122.1_phi_102.7.dat---------"
       ]
      },
      {
       "output_type": "stream",
       "stream": "stdout",
       "text": [
        "\n",
        "-------- Estoy en el archivo: experiment_theta_122.2_phi_127.3.dat---------"
       ]
      },
      {
       "output_type": "stream",
       "stream": "stdout",
       "text": [
        "\n",
        "-------- Estoy en el archivo: experiment_theta_122.3_phi_319.7.dat---------"
       ]
      },
      {
       "output_type": "stream",
       "stream": "stdout",
       "text": [
        "\n",
        "-------- Estoy en el archivo: experiment_theta_122.3_phi_324.3.dat---------\n",
        "-------- Estoy en el archivo: experiment_theta_122.4_phi_130.9.dat---------\n",
        "-------- Estoy en el archivo: experiment_theta_122.4_phi_332.3.dat---------"
       ]
      },
      {
       "output_type": "stream",
       "stream": "stdout",
       "text": [
        "\n",
        "-------- Estoy en el archivo: experiment_theta_122.8_phi_351.8.dat---------"
       ]
      },
      {
       "output_type": "stream",
       "stream": "stdout",
       "text": [
        "\n",
        "-------- Estoy en el archivo: experiment_theta_122.9_phi_140.1.dat---------\n",
        "-------- Estoy en el archivo: experiment_theta_122.9_phi_183.9.dat---------\n",
        "-------- Estoy en el archivo: experiment_theta_123.1_phi_95.7.dat---------"
       ]
      },
      {
       "output_type": "stream",
       "stream": "stdout",
       "text": [
        "\n",
        "-------- Estoy en el archivo: experiment_theta_123.2_phi_312.1.dat---------"
       ]
      },
      {
       "output_type": "stream",
       "stream": "stdout",
       "text": [
        "\n",
        "-------- Estoy en el archivo: experiment_theta_123.3_phi_124.6.dat---------"
       ]
      },
      {
       "output_type": "stream",
       "stream": "stdout",
       "text": [
        "\n",
        "-------- Estoy en el archivo: experiment_theta_123.5_phi_287.9.dat---------"
       ]
      },
      {
       "output_type": "stream",
       "stream": "stdout",
       "text": [
        "\n",
        "-------- Estoy en el archivo: experiment_theta_123.6_phi_149.2.dat---------\n",
        "-------- Estoy en el archivo: experiment_theta_123.7_phi_203.0.dat---------"
       ]
      },
      {
       "output_type": "stream",
       "stream": "stdout",
       "text": [
        "\n",
        "-------- Estoy en el archivo: experiment_theta_123.8_phi_42.4.dat---------\n",
        "-------- Estoy en el archivo: experiment_theta_124.0_phi_339.2.dat---------"
       ]
      },
      {
       "output_type": "stream",
       "stream": "stdout",
       "text": [
        "\n",
        "-------- Estoy en el archivo: experiment_theta_124.3_phi_23.7.dat---------"
       ]
      },
      {
       "output_type": "stream",
       "stream": "stdout",
       "text": [
        "\n",
        "-------- Estoy en el archivo: experiment_theta_124.6_phi_191.9.dat---------"
       ]
      },
      {
       "output_type": "stream",
       "stream": "stdout",
       "text": [
        "\n",
        "-------- Estoy en el archivo: experiment_theta_124.8_phi_215.7.dat---------"
       ]
      },
      {
       "output_type": "stream",
       "stream": "stdout",
       "text": [
        "\n",
        "-------- Estoy en el archivo: experiment_theta_125.1_phi_299.4.dat---------"
       ]
      },
      {
       "output_type": "stream",
       "stream": "stdout",
       "text": [
        "\n",
        "-------- Estoy en el archivo: experiment_theta_125.2_phi_221.7.dat---------"
       ]
      },
      {
       "output_type": "stream",
       "stream": "stdout",
       "text": [
        "\n",
        "-------- Estoy en el archivo: experiment_theta_125.3_phi_86.5.dat---------"
       ]
      },
      {
       "output_type": "stream",
       "stream": "stdout",
       "text": [
        "\n",
        "-------- Estoy en el archivo: experiment_theta_125.5_phi_116.0.dat---------"
       ]
      },
      {
       "output_type": "stream",
       "stream": "stdout",
       "text": [
        "\n",
        "-------- Estoy en el archivo: experiment_theta_125.7_phi_33.3.dat---------"
       ]
      },
      {
       "output_type": "stream",
       "stream": "stdout",
       "text": [
        "\n",
        "-------- Estoy en el archivo: experiment_theta_125.7_phi_273.3.dat---------\n",
        "-------- Estoy en el archivo: experiment_theta_125.9_phi_224.0.dat---------"
       ]
      },
      {
       "output_type": "stream",
       "stream": "stdout",
       "text": [
        "\n",
        "-------- Estoy en el archivo: experiment_theta_126.0_phi_320.5.dat---------"
       ]
      },
      {
       "output_type": "stream",
       "stream": "stdout",
       "text": [
        "\n",
        "-------- Estoy en el archivo: experiment_theta_126.0_phi_335.8.dat---------\n",
        "-------- Estoy en el archivo: experiment_theta_126.1_phi_171.4.dat---------\n",
        "-------- Estoy en el archivo: experiment_theta_126.9_phi_97.5.dat---------"
       ]
      },
      {
       "output_type": "stream",
       "stream": "stdout",
       "text": [
        "\n",
        "-------- Estoy en el archivo: experiment_theta_127.1_phi_78.3.dat---------"
       ]
      },
      {
       "output_type": "stream",
       "stream": "stdout",
       "text": [
        "\n",
        "-------- Estoy en el archivo: experiment_theta_127.1_phi_128.3.dat---------\n",
        "-------- Estoy en el archivo: experiment_theta_127.2_phi_64.9.dat---------"
       ]
      },
      {
       "output_type": "stream",
       "stream": "stdout",
       "text": [
        "\n",
        "-------- Estoy en el archivo: experiment_theta_127.4_phi_144.9.dat---------"
       ]
      },
      {
       "output_type": "stream",
       "stream": "stdout",
       "text": [
        "\n",
        "-------- Estoy en el archivo: experiment_theta_127.6_phi_71.7.dat---------"
       ]
      },
      {
       "output_type": "stream",
       "stream": "stdout",
       "text": [
        "\n",
        "-------- Estoy en el archivo: experiment_theta_127.7_phi_311.0.dat---------"
       ]
      },
      {
       "output_type": "stream",
       "stream": "stdout",
       "text": [
        "\n",
        "-------- Estoy en el archivo: experiment_theta_127.8_phi_50.8.dat---------\n",
        "-------- Estoy en el archivo: experiment_theta_127.8_phi_301.6.dat---------"
       ]
      },
      {
       "output_type": "stream",
       "stream": "stdout",
       "text": [
        "\n",
        "-------- Estoy en el archivo: experiment_theta_128.0_phi_69.0.dat---------"
       ]
      },
      {
       "output_type": "stream",
       "stream": "stdout",
       "text": [
        "\n",
        "-------- Estoy en el archivo: experiment_theta_128.0_phi_182.2.dat---------\n",
        "-------- Estoy en el archivo: experiment_theta_128.0_phi_276.8.dat---------"
       ]
      },
      {
       "output_type": "stream",
       "stream": "stdout",
       "text": [
        "\n",
        "-------- Estoy en el archivo: experiment_theta_128.1_phi_11.1.dat---------\n",
        "-------- Estoy en el archivo: experiment_theta_128.1_phi_210.5.dat---------"
       ]
      },
      {
       "output_type": "stream",
       "stream": "stdout",
       "text": [
        "\n",
        "-------- Estoy en el archivo: experiment_theta_128.2_phi_339.7.dat---------"
       ]
      },
      {
       "output_type": "stream",
       "stream": "stdout",
       "text": [
        "\n",
        "-------- Estoy en el archivo: experiment_theta_128.3_phi_270.8.dat---------"
       ]
      },
      {
       "output_type": "stream",
       "stream": "stdout",
       "text": [
        "\n",
        "-------- Estoy en el archivo: experiment_theta_128.3_phi_290.3.dat---------\n",
        "-------- Estoy en el archivo: experiment_theta_128.6_phi_185.6.dat---------"
       ]
      },
      {
       "output_type": "stream",
       "stream": "stdout",
       "text": [
        "\n",
        "-------- Estoy en el archivo: experiment_theta_128.6_phi_271.3.dat---------"
       ]
      },
      {
       "output_type": "stream",
       "stream": "stdout",
       "text": [
        "\n",
        "-------- Estoy en el archivo: experiment_theta_128.7_phi_71.6.dat---------"
       ]
      },
      {
       "output_type": "stream",
       "stream": "stdout",
       "text": [
        "\n",
        "-------- Estoy en el archivo: experiment_theta_128.8_phi_24.4.dat---------"
       ]
      },
      {
       "output_type": "stream",
       "stream": "stdout",
       "text": [
        "\n",
        "-------- Estoy en el archivo: experiment_theta_128.8_phi_341.5.dat---------"
       ]
      },
      {
       "output_type": "stream",
       "stream": "stdout",
       "text": [
        "\n",
        "-------- Estoy en el archivo: experiment_theta_129.6_phi_147.3.dat---------"
       ]
      },
      {
       "output_type": "stream",
       "stream": "stdout",
       "text": [
        "\n",
        "-------- Estoy en el archivo: experiment_theta_129.6_phi_303.1.dat---------"
       ]
      },
      {
       "output_type": "stream",
       "stream": "stdout",
       "text": [
        "\n",
        "-------- Estoy en el archivo: experiment_theta_129.8_phi_177.3.dat---------"
       ]
      },
      {
       "output_type": "stream",
       "stream": "stdout",
       "text": [
        "\n",
        "-------- Estoy en el archivo: experiment_theta_129.9_phi_321.6.dat---------"
       ]
      },
      {
       "output_type": "stream",
       "stream": "stdout",
       "text": [
        "\n",
        "-------- Estoy en el archivo: experiment_theta_130.2_phi_170.4.dat---------"
       ]
      },
      {
       "output_type": "stream",
       "stream": "stdout",
       "text": [
        "\n",
        "-------- Estoy en el archivo: experiment_theta_130.5_phi_297.7.dat---------"
       ]
      },
      {
       "output_type": "stream",
       "stream": "stdout",
       "text": [
        "\n",
        "-------- Estoy en el archivo: experiment_theta_130.6_phi_198.4.dat---------"
       ]
      },
      {
       "output_type": "stream",
       "stream": "stdout",
       "text": [
        "\n",
        "-------- Estoy en el archivo: experiment_theta_130.6_phi_220.1.dat---------\n",
        "-------- Estoy en el archivo: experiment_theta_130.7_phi_222.0.dat---------"
       ]
      },
      {
       "output_type": "stream",
       "stream": "stdout",
       "text": [
        "\n",
        "-------- Estoy en el archivo: experiment_theta_130.8_phi_187.4.dat---------"
       ]
      },
      {
       "output_type": "stream",
       "stream": "stdout",
       "text": [
        "\n",
        "-------- Estoy en el archivo: experiment_theta_130.9_phi_180.9.dat---------"
       ]
      },
      {
       "output_type": "stream",
       "stream": "stdout",
       "text": [
        "\n",
        "-------- Estoy en el archivo: experiment_theta_131.3_phi_205.9.dat---------"
       ]
      },
      {
       "output_type": "stream",
       "stream": "stdout",
       "text": [
        "\n",
        "-------- Estoy en el archivo: experiment_theta_131.5_phi_60.1.dat---------"
       ]
      },
      {
       "output_type": "stream",
       "stream": "stdout",
       "text": [
        "\n",
        "-------- Estoy en el archivo: experiment_theta_131.5_phi_114.7.dat---------\n",
        "-------- Estoy en el archivo: experiment_theta_132.0_phi_202.4.dat---------"
       ]
      },
      {
       "output_type": "stream",
       "stream": "stdout",
       "text": [
        "\n",
        "-------- Estoy en el archivo: experiment_theta_132.0_phi_292.7.dat---------\n",
        "-------- Estoy en el archivo: experiment_theta_132.1_phi_183.7.dat---------"
       ]
      },
      {
       "output_type": "stream",
       "stream": "stdout",
       "text": [
        "\n",
        "-------- Estoy en el archivo: experiment_theta_132.2_phi_346.9.dat---------"
       ]
      },
      {
       "output_type": "stream",
       "stream": "stdout",
       "text": [
        "\n",
        "-------- Estoy en el archivo: experiment_theta_132.5_phi_57.7.dat---------"
       ]
      },
      {
       "output_type": "stream",
       "stream": "stdout",
       "text": [
        "\n",
        "-------- Estoy en el archivo: experiment_theta_132.8_phi_72.6.dat---------"
       ]
      },
      {
       "output_type": "stream",
       "stream": "stdout",
       "text": [
        "\n",
        "-------- Estoy en el archivo: experiment_theta_132.9_phi_12.2.dat---------"
       ]
      },
      {
       "output_type": "stream",
       "stream": "stdout",
       "text": [
        "\n",
        "-------- Estoy en el archivo: experiment_theta_132.9_phi_33.9.dat---------\n",
        "-------- Estoy en el archivo: experiment_theta_133.0_phi_244.2.dat---------"
       ]
      },
      {
       "output_type": "stream",
       "stream": "stdout",
       "text": [
        "\n",
        "-------- Estoy en el archivo: experiment_theta_133.0_phi_274.3.dat---------\n",
        "-------- Estoy en el archivo: experiment_theta_133.1_phi_131.2.dat---------"
       ]
      },
      {
       "output_type": "stream",
       "stream": "stdout",
       "text": [
        "\n",
        "-------- Estoy en el archivo: experiment_theta_133.3_phi_105.3.dat---------"
       ]
      },
      {
       "output_type": "stream",
       "stream": "stdout",
       "text": [
        "\n",
        "-------- Estoy en el archivo: experiment_theta_133.4_phi_125.3.dat---------"
       ]
      },
      {
       "output_type": "stream",
       "stream": "stdout",
       "text": [
        "\n",
        "-------- Estoy en el archivo: experiment_theta_133.6_phi_169.3.dat---------"
       ]
      },
      {
       "output_type": "stream",
       "stream": "stdout",
       "text": [
        "\n",
        "-------- Estoy en el archivo: experiment_theta_133.6_phi_294.7.dat---------\n",
        "-------- Estoy en el archivo: experiment_theta_133.7_phi_96.5.dat---------"
       ]
      },
      {
       "output_type": "stream",
       "stream": "stdout",
       "text": [
        "\n",
        "-------- Estoy en el archivo: experiment_theta_133.8_phi_190.0.dat---------"
       ]
      },
      {
       "output_type": "stream",
       "stream": "stdout",
       "text": [
        "\n",
        "-------- Estoy en el archivo: experiment_theta_134.0_phi_221.9.dat---------"
       ]
      },
      {
       "output_type": "stream",
       "stream": "stdout",
       "text": [
        "\n",
        "-------- Estoy en el archivo: experiment_theta_134.2_phi_35.6.dat---------"
       ]
      },
      {
       "output_type": "stream",
       "stream": "stdout",
       "text": [
        "\n",
        "-------- Estoy en el archivo: experiment_theta_134.3_phi_37.8.dat---------"
       ]
      },
      {
       "output_type": "stream",
       "stream": "stdout",
       "text": [
        "\n",
        "-------- Estoy en el archivo: experiment_theta_134.3_phi_274.2.dat---------"
       ]
      },
      {
       "output_type": "stream",
       "stream": "stdout",
       "text": [
        "\n",
        "-------- Estoy en el archivo: experiment_theta_134.7_phi_168.1.dat---------"
       ]
      },
      {
       "output_type": "stream",
       "stream": "stdout",
       "text": [
        "\n",
        "-------- Estoy en el archivo: experiment_theta_135.0_phi_307.1.dat---------"
       ]
      },
      {
       "output_type": "stream",
       "stream": "stdout",
       "text": [
        "\n",
        "-------- Estoy en el archivo: experiment_theta_135.1_phi_314.7.dat---------"
       ]
      },
      {
       "output_type": "stream",
       "stream": "stdout",
       "text": [
        "\n",
        "-------- Estoy en el archivo: experiment_theta_135.2_phi_59.9.dat---------"
       ]
      },
      {
       "output_type": "stream",
       "stream": "stdout",
       "text": [
        "\n",
        "-------- Estoy en el archivo: experiment_theta_135.2_phi_253.4.dat---------"
       ]
      },
      {
       "output_type": "stream",
       "stream": "stdout",
       "text": [
        "\n",
        "-------- Estoy en el archivo: experiment_theta_135.2_phi_297.5.dat---------"
       ]
      },
      {
       "output_type": "stream",
       "stream": "stdout",
       "text": [
        "\n",
        "-------- Estoy en el archivo: experiment_theta_135.4_phi_208.5.dat---------"
       ]
      },
      {
       "output_type": "stream",
       "stream": "stdout",
       "text": [
        "\n",
        "-------- Estoy en el archivo: experiment_theta_135.8_phi_277.7.dat---------"
       ]
      },
      {
       "output_type": "stream",
       "stream": "stdout",
       "text": [
        "\n",
        "-------- Estoy en el archivo: experiment_theta_136.0_phi_99.6.dat---------"
       ]
      },
      {
       "output_type": "stream",
       "stream": "stdout",
       "text": [
        "\n",
        "-------- Estoy en el archivo: experiment_theta_136.0_phi_127.3.dat---------\n",
        "-------- Estoy en el archivo: experiment_theta_136.0_phi_186.1.dat---------"
       ]
      },
      {
       "output_type": "stream",
       "stream": "stdout",
       "text": [
        "\n",
        "-------- Estoy en el archivo: experiment_theta_136.4_phi_59.3.dat---------"
       ]
      },
      {
       "output_type": "stream",
       "stream": "stdout",
       "text": [
        "\n",
        "-------- Estoy en el archivo: experiment_theta_136.8_phi_352.0.dat---------"
       ]
      },
      {
       "output_type": "stream",
       "stream": "stdout",
       "text": [
        "\n",
        "-------- Estoy en el archivo: experiment_theta_136.9_phi_153.7.dat---------"
       ]
      },
      {
       "output_type": "stream",
       "stream": "stdout",
       "text": [
        "\n",
        "-------- Estoy en el archivo: experiment_theta_137.1_phi_5.2.dat---------"
       ]
      },
      {
       "output_type": "stream",
       "stream": "stdout",
       "text": [
        "\n",
        "-------- Estoy en el archivo: experiment_theta_137.2_phi_159.7.dat---------"
       ]
      },
      {
       "output_type": "stream",
       "stream": "stdout",
       "text": [
        "\n",
        "-------- Estoy en el archivo: experiment_theta_137.8_phi_200.4.dat---------"
       ]
      },
      {
       "output_type": "stream",
       "stream": "stdout",
       "text": [
        "\n",
        "-------- Estoy en el archivo: experiment_theta_138.4_phi_192.9.dat---------"
       ]
      },
      {
       "output_type": "stream",
       "stream": "stdout",
       "text": [
        "\n",
        "-------- Estoy en el archivo: experiment_theta_138.4_phi_199.8.dat---------\n",
        "-------- Estoy en el archivo: experiment_theta_138.6_phi_258.4.dat---------"
       ]
      },
      {
       "output_type": "stream",
       "stream": "stdout",
       "text": [
        "\n",
        "-------- Estoy en el archivo: experiment_theta_139.2_phi_317.8.dat---------"
       ]
      },
      {
       "output_type": "stream",
       "stream": "stdout",
       "text": [
        "\n",
        "-------- Estoy en el archivo: experiment_theta_139.2_phi_357.2.dat---------\n",
        "-------- Estoy en el archivo: experiment_theta_139.4_phi_42.0.dat---------"
       ]
      },
      {
       "output_type": "stream",
       "stream": "stdout",
       "text": [
        "\n",
        "-------- Estoy en el archivo: experiment_theta_139.6_phi_213.2.dat---------"
       ]
      },
      {
       "output_type": "stream",
       "stream": "stdout",
       "text": [
        "\n",
        "-------- Estoy en el archivo: experiment_theta_139.9_phi_272.6.dat---------"
       ]
      },
      {
       "output_type": "stream",
       "stream": "stdout",
       "text": [
        "\n",
        "-------- Estoy en el archivo: experiment_theta_140.3_phi_62.0.dat---------"
       ]
      },
      {
       "output_type": "stream",
       "stream": "stdout",
       "text": [
        "\n",
        "-------- Estoy en el archivo: experiment_theta_140.4_phi_270.5.dat---------"
       ]
      },
      {
       "output_type": "stream",
       "stream": "stdout",
       "text": [
        "\n",
        "-------- Estoy en el archivo: experiment_theta_140.6_phi_141.6.dat---------"
       ]
      },
      {
       "output_type": "stream",
       "stream": "stdout",
       "text": [
        "\n",
        "-------- Estoy en el archivo: experiment_theta_141.0_phi_159.5.dat---------"
       ]
      },
      {
       "output_type": "stream",
       "stream": "stdout",
       "text": [
        "\n",
        "-------- Estoy en el archivo: experiment_theta_141.0_phi_269.3.dat---------\n",
        "-------- Estoy en el archivo: experiment_theta_141.3_phi_29.5.dat---------"
       ]
      },
      {
       "output_type": "stream",
       "stream": "stdout",
       "text": [
        "\n",
        "-------- Estoy en el archivo: experiment_theta_141.3_phi_139.3.dat---------"
       ]
      },
      {
       "output_type": "stream",
       "stream": "stdout",
       "text": [
        "\n",
        "-------- Estoy en el archivo: experiment_theta_142.1_phi_44.3.dat---------"
       ]
      },
      {
       "output_type": "stream",
       "stream": "stdout",
       "text": [
        "\n",
        "-------- Estoy en el archivo: experiment_theta_142.4_phi_115.9.dat---------"
       ]
      },
      {
       "output_type": "stream",
       "stream": "stdout",
       "text": [
        "\n",
        "-------- Estoy en el archivo: experiment_theta_142.5_phi_99.7.dat---------"
       ]
      },
      {
       "output_type": "stream",
       "stream": "stdout",
       "text": [
        "\n",
        "-------- Estoy en el archivo: experiment_theta_142.7_phi_193.6.dat---------"
       ]
      },
      {
       "output_type": "stream",
       "stream": "stdout",
       "text": [
        "\n",
        "-------- Estoy en el archivo: experiment_theta_142.9_phi_338.0.dat---------"
       ]
      },
      {
       "output_type": "stream",
       "stream": "stdout",
       "text": [
        "\n",
        "-------- Estoy en el archivo: experiment_theta_143.2_phi_69.5.dat---------"
       ]
      },
      {
       "output_type": "stream",
       "stream": "stdout",
       "text": [
        "\n",
        "-------- Estoy en el archivo: experiment_theta_143.5_phi_228.8.dat---------"
       ]
      },
      {
       "output_type": "stream",
       "stream": "stdout",
       "text": [
        "\n",
        "-------- Estoy en el archivo: experiment_theta_143.6_phi_49.1.dat---------\n",
        "-------- Estoy en el archivo: experiment_theta_143.7_phi_157.2.dat---------"
       ]
      },
      {
       "output_type": "stream",
       "stream": "stdout",
       "text": [
        "\n",
        "-------- Estoy en el archivo: experiment_theta_143.9_phi_17.7.dat---------"
       ]
      },
      {
       "output_type": "stream",
       "stream": "stdout",
       "text": [
        "\n",
        "-------- Estoy en el archivo: experiment_theta_144.2_phi_121.7.dat---------"
       ]
      },
      {
       "output_type": "stream",
       "stream": "stdout",
       "text": [
        "\n",
        "-------- Estoy en el archivo: experiment_theta_144.2_phi_288.1.dat---------\n",
        "-------- Estoy en el archivo: experiment_theta_144.6_phi_3.5.dat---------"
       ]
      },
      {
       "output_type": "stream",
       "stream": "stdout",
       "text": [
        "\n",
        "-------- Estoy en el archivo: experiment_theta_144.9_phi_44.3.dat---------"
       ]
      },
      {
       "output_type": "stream",
       "stream": "stdout",
       "text": [
        "\n",
        "-------- Estoy en el archivo: experiment_theta_144.9_phi_133.5.dat---------\n",
        "-------- Estoy en el archivo: experiment_theta_145.0_phi_207.8.dat---------"
       ]
      },
      {
       "output_type": "stream",
       "stream": "stdout",
       "text": [
        "\n",
        "-------- Estoy en el archivo: experiment_theta_145.2_phi_260.3.dat---------"
       ]
      },
      {
       "output_type": "stream",
       "stream": "stdout",
       "text": [
        "\n",
        "-------- Estoy en el archivo: experiment_theta_145.3_phi_86.5.dat---------\n",
        "-------- Estoy en el archivo: experiment_theta_145.9_phi_83.7.dat---------"
       ]
      },
      {
       "output_type": "stream",
       "stream": "stdout",
       "text": [
        "\n",
        "-------- Estoy en el archivo: experiment_theta_145.9_phi_224.0.dat---------\n",
        "-------- Estoy en el archivo: experiment_theta_146.1_phi_351.9.dat---------"
       ]
      },
      {
       "output_type": "stream",
       "stream": "stdout",
       "text": [
        "\n",
        "-------- Estoy en el archivo: experiment_theta_146.8_phi_212.0.dat---------"
       ]
      },
      {
       "output_type": "stream",
       "stream": "stdout",
       "text": [
        "\n",
        "-------- Estoy en el archivo: experiment_theta_146.8_phi_271.2.dat---------\n",
        "-------- Estoy en el archivo: experiment_theta_147.1_phi_182.1.dat---------"
       ]
      },
      {
       "output_type": "stream",
       "stream": "stdout",
       "text": [
        "\n",
        "-------- Estoy en el archivo: experiment_theta_147.1_phi_265.5.dat---------\n",
        "-------- Estoy en el archivo: experiment_theta_147.2_phi_63.2.dat---------"
       ]
      },
      {
       "output_type": "stream",
       "stream": "stdout",
       "text": [
        "\n",
        "-------- Estoy en el archivo: experiment_theta_147.2_phi_155.6.dat---------"
       ]
      },
      {
       "output_type": "stream",
       "stream": "stdout",
       "text": [
        "\n",
        "-------- Estoy en el archivo: experiment_theta_147.5_phi_219.3.dat---------"
       ]
      },
      {
       "output_type": "stream",
       "stream": "stdout",
       "text": [
        "\n",
        "-------- Estoy en el archivo: experiment_theta_147.5_phi_310.5.dat---------"
       ]
      },
      {
       "output_type": "stream",
       "stream": "stdout",
       "text": [
        "\n",
        "-------- Estoy en el archivo: experiment_theta_147.7_phi_166.6.dat---------"
       ]
      },
      {
       "output_type": "stream",
       "stream": "stdout",
       "text": [
        "\n",
        "-------- Estoy en el archivo: experiment_theta_147.9_phi_271.2.dat---------"
       ]
      },
      {
       "output_type": "stream",
       "stream": "stdout",
       "text": [
        "\n",
        "-------- Estoy en el archivo: experiment_theta_147.9_phi_278.0.dat---------\n",
        "-------- Estoy en el archivo: experiment_theta_148.2_phi_24.8.dat---------"
       ]
      },
      {
       "output_type": "stream",
       "stream": "stdout",
       "text": [
        "\n",
        "-------- Estoy en el archivo: experiment_theta_148.5_phi_166.2.dat---------"
       ]
      },
      {
       "output_type": "stream",
       "stream": "stdout",
       "text": [
        "\n",
        "-------- Estoy en el archivo: experiment_theta_148.6_phi_346.1.dat---------"
       ]
      },
      {
       "output_type": "stream",
       "stream": "stdout",
       "text": [
        "\n",
        "-------- Estoy en el archivo: experiment_theta_149.0_phi_113.8.dat---------"
       ]
      },
      {
       "output_type": "stream",
       "stream": "stdout",
       "text": [
        "\n",
        "-------- Estoy en el archivo: experiment_theta_149.2_phi_164.5.dat---------"
       ]
      },
      {
       "output_type": "stream",
       "stream": "stdout",
       "text": [
        "\n",
        "-------- Estoy en el archivo: experiment_theta_149.4_phi_49.2.dat---------"
       ]
      },
      {
       "output_type": "stream",
       "stream": "stdout",
       "text": [
        "\n",
        "-------- Estoy en el archivo: experiment_theta_149.6_phi_246.4.dat---------"
       ]
      },
      {
       "output_type": "stream",
       "stream": "stdout",
       "text": [
        "\n",
        "-------- Estoy en el archivo: experiment_theta_149.7_phi_315.4.dat---------"
       ]
      },
      {
       "output_type": "stream",
       "stream": "stdout",
       "text": [
        "\n",
        "-------- Estoy en el archivo: experiment_theta_150.2_phi_115.6.dat---------"
       ]
      },
      {
       "output_type": "stream",
       "stream": "stdout",
       "text": [
        "\n",
        "-------- Estoy en el archivo: experiment_theta_150.3_phi_52.8.dat---------"
       ]
      },
      {
       "output_type": "stream",
       "stream": "stdout",
       "text": [
        "\n",
        "-------- Estoy en el archivo: experiment_theta_151.1_phi_67.6.dat---------"
       ]
      },
      {
       "output_type": "stream",
       "stream": "stdout",
       "text": [
        "\n",
        "-------- Estoy en el archivo: experiment_theta_151.3_phi_166.8.dat---------"
       ]
      },
      {
       "output_type": "stream",
       "stream": "stdout",
       "text": [
        "\n",
        "-------- Estoy en el archivo: experiment_theta_151.4_phi_100.8.dat---------"
       ]
      },
      {
       "output_type": "stream",
       "stream": "stdout",
       "text": [
        "\n",
        "-------- Estoy en el archivo: experiment_theta_151.9_phi_173.7.dat---------"
       ]
      },
      {
       "output_type": "stream",
       "stream": "stdout",
       "text": [
        "\n",
        "-------- Estoy en el archivo: experiment_theta_152.0_phi_268.6.dat---------"
       ]
      },
      {
       "output_type": "stream",
       "stream": "stdout",
       "text": [
        "\n",
        "-------- Estoy en el archivo: experiment_theta_152.7_phi_117.3.dat---------"
       ]
      },
      {
       "output_type": "stream",
       "stream": "stdout",
       "text": [
        "\n",
        "-------- Estoy en el archivo: experiment_theta_152.7_phi_159.4.dat---------\n",
        "-------- Estoy en el archivo: experiment_theta_152.8_phi_160.6.dat---------"
       ]
      },
      {
       "output_type": "stream",
       "stream": "stdout",
       "text": [
        "\n",
        "-------- Estoy en el archivo: experiment_theta_152.8_phi_173.6.dat---------\n",
        "-------- Estoy en el archivo: experiment_theta_153.0_phi_27.9.dat---------"
       ]
      },
      {
       "output_type": "stream",
       "stream": "stdout",
       "text": [
        "\n",
        "-------- Estoy en el archivo: experiment_theta_153.2_phi_167.7.dat---------"
       ]
      },
      {
       "output_type": "stream",
       "stream": "stdout",
       "text": [
        "\n",
        "-------- Estoy en el archivo: experiment_theta_153.3_phi_74.6.dat---------"
       ]
      },
      {
       "output_type": "stream",
       "stream": "stdout",
       "text": [
        "\n",
        "-------- Estoy en el archivo: experiment_theta_153.7_phi_258.8.dat---------"
       ]
      },
      {
       "output_type": "stream",
       "stream": "stdout",
       "text": [
        "\n",
        "-------- Estoy en el archivo: experiment_theta_153.8_phi_53.7.dat---------\n",
        "-------- Estoy en el archivo: experiment_theta_153.8_phi_170.4.dat---------"
       ]
      },
      {
       "output_type": "stream",
       "stream": "stdout",
       "text": [
        "\n",
        "-------- Estoy en el archivo: experiment_theta_153.9_phi_240.6.dat---------"
       ]
      },
      {
       "output_type": "stream",
       "stream": "stdout",
       "text": [
        "\n",
        "-------- Estoy en el archivo: experiment_theta_155.4_phi_76.9.dat---------"
       ]
      },
      {
       "output_type": "stream",
       "stream": "stdout",
       "text": [
        "\n",
        "-------- Estoy en el archivo: experiment_theta_155.5_phi_272.4.dat---------"
       ]
      },
      {
       "output_type": "stream",
       "stream": "stdout",
       "text": [
        "\n",
        "-------- Estoy en el archivo: experiment_theta_155.6_phi_178.8.dat---------"
       ]
      },
      {
       "output_type": "stream",
       "stream": "stdout",
       "text": [
        "\n",
        "-------- Estoy en el archivo: experiment_theta_155.7_phi_337.6.dat---------"
       ]
      },
      {
       "output_type": "stream",
       "stream": "stdout",
       "text": [
        "\n",
        "-------- Estoy en el archivo: experiment_theta_155.8_phi_297.7.dat---------"
       ]
      },
      {
       "output_type": "stream",
       "stream": "stdout",
       "text": [
        "\n",
        "-------- Estoy en el archivo: experiment_theta_156.0_phi_83.2.dat---------"
       ]
      },
      {
       "output_type": "stream",
       "stream": "stdout",
       "text": [
        "\n",
        "-------- Estoy en el archivo: experiment_theta_156.0_phi_296.0.dat---------"
       ]
      },
      {
       "output_type": "stream",
       "stream": "stdout",
       "text": [
        "\n",
        "-------- Estoy en el archivo: experiment_theta_156.5_phi_86.1.dat---------"
       ]
      },
      {
       "output_type": "stream",
       "stream": "stdout",
       "text": [
        "\n",
        "-------- Estoy en el archivo: experiment_theta_156.5_phi_212.6.dat---------"
       ]
      },
      {
       "output_type": "stream",
       "stream": "stdout",
       "text": [
        "\n",
        "-------- Estoy en el archivo: experiment_theta_156.7_phi_261.9.dat---------"
       ]
      },
      {
       "output_type": "stream",
       "stream": "stdout",
       "text": [
        "\n",
        "-------- Estoy en el archivo: experiment_theta_157.3_phi_250.1.dat---------"
       ]
      },
      {
       "output_type": "stream",
       "stream": "stdout",
       "text": [
        "\n",
        "-------- Estoy en el archivo: experiment_theta_157.4_phi_237.5.dat---------"
       ]
      },
      {
       "output_type": "stream",
       "stream": "stdout",
       "text": [
        "\n",
        "-------- Estoy en el archivo: experiment_theta_157.5_phi_33.8.dat---------"
       ]
      },
      {
       "output_type": "stream",
       "stream": "stdout",
       "text": [
        "\n",
        "-------- Estoy en el archivo: experiment_theta_157.7_phi_101.3.dat---------"
       ]
      },
      {
       "output_type": "stream",
       "stream": "stdout",
       "text": [
        "\n",
        "-------- Estoy en el archivo: experiment_theta_158.6_phi_66.1.dat---------"
       ]
      },
      {
       "output_type": "stream",
       "stream": "stdout",
       "text": [
        "\n",
        "-------- Estoy en el archivo: experiment_theta_158.7_phi_300.9.dat---------"
       ]
      },
      {
       "output_type": "stream",
       "stream": "stdout",
       "text": [
        "\n",
        "-------- Estoy en el archivo: experiment_theta_158.9_phi_116.5.dat---------"
       ]
      },
      {
       "output_type": "stream",
       "stream": "stdout",
       "text": [
        "\n",
        "-------- Estoy en el archivo: experiment_theta_159.0_phi_220.8.dat---------"
       ]
      },
      {
       "output_type": "stream",
       "stream": "stdout",
       "text": [
        "\n",
        "-------- Estoy en el archivo: experiment_theta_159.3_phi_56.6.dat---------"
       ]
      },
      {
       "output_type": "stream",
       "stream": "stdout",
       "text": [
        "\n",
        "-------- Estoy en el archivo: experiment_theta_159.8_phi_68.2.dat---------"
       ]
      },
      {
       "output_type": "stream",
       "stream": "stdout",
       "text": [
        "\n",
        "-------- Estoy en el archivo: experiment_theta_160.0_phi_119.4.dat---------"
       ]
      },
      {
       "output_type": "stream",
       "stream": "stdout",
       "text": [
        "\n",
        "-------- Estoy en el archivo: experiment_theta_160.0_phi_211.6.dat---------\n",
        "-------- Estoy en el archivo: experiment_theta_160.3_phi_121.3.dat---------"
       ]
      },
      {
       "output_type": "stream",
       "stream": "stdout",
       "text": [
        "\n",
        "-------- Estoy en el archivo: experiment_theta_160.7_phi_124.5.dat---------"
       ]
      },
      {
       "output_type": "stream",
       "stream": "stdout",
       "text": [
        "\n",
        "-------- Estoy en el archivo: experiment_theta_161.0_phi_341.8.dat---------"
       ]
      },
      {
       "output_type": "stream",
       "stream": "stdout",
       "text": [
        "\n",
        "-------- Estoy en el archivo: experiment_theta_161.3_phi_88.5.dat---------"
       ]
      },
      {
       "output_type": "stream",
       "stream": "stdout",
       "text": [
        "\n",
        "-------- Estoy en el archivo: experiment_theta_161.3_phi_174.7.dat---------\n",
        "-------- Estoy en el archivo: experiment_theta_161.3_phi_277.1.dat---------"
       ]
      },
      {
       "output_type": "stream",
       "stream": "stdout",
       "text": [
        "\n",
        "-------- Estoy en el archivo: experiment_theta_161.7_phi_278.6.dat---------"
       ]
      },
      {
       "output_type": "stream",
       "stream": "stdout",
       "text": [
        "\n",
        "-------- Estoy en el archivo: experiment_theta_162.1_phi_58.8.dat---------"
       ]
      },
      {
       "output_type": "stream",
       "stream": "stdout",
       "text": [
        "\n",
        "-------- Estoy en el archivo: experiment_theta_162.6_phi_61.9.dat---------"
       ]
      },
      {
       "output_type": "stream",
       "stream": "stdout",
       "text": [
        "\n",
        "-------- Estoy en el archivo: experiment_theta_162.9_phi_341.0.dat---------"
       ]
      },
      {
       "output_type": "stream",
       "stream": "stdout",
       "text": [
        "\n",
        "-------- Estoy en el archivo: experiment_theta_163.5_phi_91.4.dat---------"
       ]
      },
      {
       "output_type": "stream",
       "stream": "stdout",
       "text": [
        "\n",
        "-------- Estoy en el archivo: experiment_theta_163.6_phi_188.9.dat---------"
       ]
      },
      {
       "output_type": "stream",
       "stream": "stdout",
       "text": [
        "\n",
        "-------- Estoy en el archivo: experiment_theta_163.8_phi_344.7.dat---------"
       ]
      },
      {
       "output_type": "stream",
       "stream": "stdout",
       "text": [
        "\n",
        "-------- Estoy en el archivo: experiment_theta_165.7_phi_101.2.dat---------"
       ]
      },
      {
       "output_type": "stream",
       "stream": "stdout",
       "text": [
        "\n",
        "-------- Estoy en el archivo: experiment_theta_166.0_phi_334.4.dat---------"
       ]
      },
      {
       "output_type": "stream",
       "stream": "stdout",
       "text": [
        "\n",
        "-------- Estoy en el archivo: experiment_theta_166.4_phi_93.1.dat---------"
       ]
      },
      {
       "output_type": "stream",
       "stream": "stdout",
       "text": [
        "\n",
        "-------- Estoy en el archivo: experiment_theta_166.6_phi_59.3.dat---------"
       ]
      },
      {
       "output_type": "stream",
       "stream": "stdout",
       "text": [
        "\n",
        "-------- Estoy en el archivo: experiment_theta_167.6_phi_175.9.dat---------"
       ]
      },
      {
       "output_type": "stream",
       "stream": "stdout",
       "text": [
        "\n",
        "-------- Estoy en el archivo: experiment_theta_167.8_phi_316.2.dat---------"
       ]
      },
      {
       "output_type": "stream",
       "stream": "stdout",
       "text": [
        "\n",
        "-------- Estoy en el archivo: experiment_theta_168.9_phi_97.9.dat---------"
       ]
      },
      {
       "output_type": "stream",
       "stream": "stdout",
       "text": [
        "\n",
        "-------- Estoy en el archivo: experiment_theta_169.0_phi_331.6.dat---------"
       ]
      },
      {
       "output_type": "stream",
       "stream": "stdout",
       "text": [
        "\n",
        "-------- Estoy en el archivo: experiment_theta_169.1_phi_71.0.dat---------\n",
        "-------- Estoy en el archivo: experiment_theta_169.9_phi_268.0.dat---------"
       ]
      },
      {
       "output_type": "stream",
       "stream": "stdout",
       "text": [
        "\n",
        "-------- Estoy en el archivo: experiment_theta_170.2_phi_192.2.dat---------"
       ]
      },
      {
       "output_type": "stream",
       "stream": "stdout",
       "text": [
        "\n",
        "-------- Estoy en el archivo: experiment_theta_170.3_phi_92.3.dat---------\n",
        "-------- Estoy en el archivo: experiment_theta_171.0_phi_334.5.dat---------"
       ]
      },
      {
       "output_type": "stream",
       "stream": "stdout",
       "text": [
        "\n",
        "-------- Estoy en el archivo: experiment_theta_171.7_phi_152.7.dat---------"
       ]
      },
      {
       "output_type": "stream",
       "stream": "stdout",
       "text": [
        "\n",
        "-------- Estoy en el archivo: experiment_theta_172.5_phi_168.0.dat---------"
       ]
      },
      {
       "output_type": "stream",
       "stream": "stdout",
       "text": [
        "\n",
        "-------- Estoy en el archivo: experiment_theta_174.2_phi_145.8.dat---------"
       ]
      },
      {
       "output_type": "stream",
       "stream": "stdout",
       "text": [
        "\n",
        "-------- Estoy en el archivo: experiment_theta_174.3_phi_210.1.dat---------"
       ]
      },
      {
       "output_type": "stream",
       "stream": "stdout",
       "text": [
        "\n",
        "-------- Estoy en el archivo: experiment_theta_176.8_phi_63.6.dat---------"
       ]
      },
      {
       "output_type": "stream",
       "stream": "stdout",
       "text": [
        "\n",
        "-------- Estoy en el archivo: experiment_theta_177.6_phi_204.0.dat---------"
       ]
      },
      {
       "output_type": "stream",
       "stream": "stdout",
       "text": [
        "\n"
       ]
      }
     ],
     "prompt_number": 265
    },
    {
     "cell_type": "code",
     "collapsed": false,
     "input": [
      "print identity(4)"
     ],
     "language": "python",
     "metadata": {},
     "outputs": [
      {
       "output_type": "stream",
       "stream": "stdout",
       "text": [
        "[[ 1.  0.  0.  0.]\n",
        " [ 0.  1.  0.  0.]\n",
        " [ 0.  0.  1.  0.]\n",
        " [ 0.  0.  0.  1.]]\n"
       ]
      }
     ],
     "prompt_number": 238
    },
    {
     "cell_type": "code",
     "collapsed": false,
     "input": [],
     "language": "python",
     "metadata": {},
     "outputs": []
    }
   ],
   "metadata": {}
  }
 ]
}